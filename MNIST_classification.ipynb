{
 "cells": [
  {
   "cell_type": "markdown",
   "metadata": {},
   "source": [
    "# Problem Set 1 - Neural network implementation"
   ]
  },
  {
   "cell_type": "markdown",
   "metadata": {},
   "source": [
    "As described in section \"3 Neural network implementation\" of assignment 1, the goal is to build a shallow neural network from scratch using different approaches. To validate that your code is working and that the network is actually learning something, please use the following MNIST classification task. Finally, please submit proof of the learning progress as described in the assignment."
   ]
  },
  {
   "cell_type": "markdown",
   "metadata": {},
   "source": [
    "## Imports"
   ]
  },
  {
   "cell_type": "code",
   "execution_count": 1,
   "metadata": {},
   "outputs": [],
   "source": [
    "import random\n",
    "import pandas as pd\n",
    "import numpy as np\n",
    "from sklearn import model_selection\n",
    "import sklearn.datasets as sk_datasets\n",
    "import torchvision.datasets as torch_datasets\n",
    "from torchvision import transforms\n",
    "import torch\n",
    "\n",
    "import matplotlib.pyplot as plt\n",
    "from scratch.network import Network\n",
    "from scratch.res_network import ResNetwork\n",
    "from pytorch.network import TorchNetwork\n",
    "from scratch.utils import *\n",
    "%matplotlib inline"
   ]
  },
  {
   "cell_type": "code",
   "execution_count": 2,
   "metadata": {},
   "outputs": [],
   "source": [
    "# Automatically load changes in imported modules\n",
    "%load_ext autoreload\n",
    "%autoreload 2\n",
    "\n",
    "# Explicitly set seed for reproducibility\n",
    "GLOBAL_RANDOM_STATE = 42\n",
    "\n",
    "random.seed(GLOBAL_RANDOM_STATE)\n",
    "np.random.seed(GLOBAL_RANDOM_STATE)"
   ]
  },
  {
   "cell_type": "markdown",
   "metadata": {},
   "source": [
    "## A) Neural Network Classifier from Scratch"
   ]
  },
  {
   "cell_type": "markdown",
   "metadata": {},
   "source": [
    "### Data"
   ]
  },
  {
   "cell_type": "code",
   "execution_count": 3,
   "metadata": {},
   "outputs": [
    {
     "name": "stderr",
     "output_type": "stream",
     "text": [
      "C:\\Users\\User\\anaconda3\\lib\\site-packages\\sklearn\\datasets\\_openml.py:968: FutureWarning: The default value of `parser` will change from `'liac-arff'` to `'auto'` in 1.4. You can set `parser='auto'` to silence this warning. Therefore, an `ImportError` will be raised from 1.4 if the dataset is dense and pandas is not installed. Note that the pandas parser may return different data types. See the Notes Section in fetch_openml's API doc for details.\n",
      "  warn(\n"
     ]
    }
   ],
   "source": [
    "# Download MNIST dataset\n",
    "x, y_cat = sk_datasets.fetch_openml('mnist_784', version=1, return_X_y=True, cache=True, as_frame=False)\n",
    "\n",
    "# Preprocess dataset\n",
    "x = (x / 255).astype('float32')\n",
    "y_cat = y_cat.astype(int)\n",
    "# One-hot encode y\n",
    "y = np.zeros((len(y_cat), 10))\n",
    "for i, val in enumerate(y_cat):\n",
    "    y[i, val] = 1\n",
    "\n",
    "# Use only small subset of data for faster training\n",
    "x = x[:1000]\n",
    "y = y[:1000]\n",
    "\n",
    "# Split data into train and validation set\n",
    "x_train, x_val, y_train, y_val = model_selection.train_test_split(x, y, test_size=0.2, random_state=GLOBAL_RANDOM_STATE)\n",
    "\n"
   ]
  },
  {
   "cell_type": "markdown",
   "metadata": {},
   "source": [
    "### ML Model & Training"
   ]
  },
  {
   "cell_type": "code",
   "execution_count": 5,
   "metadata": {},
   "outputs": [
    {
     "name": "stdout",
     "output_type": "stream",
     "text": [
      "Epoch: 1, Training Time: 2.77s, Training Accuracy: 23.62%, Validation Accuracy: 22.00%\n",
      "Epoch: 2, Training Time: 5.45s, Training Accuracy: 28.75%, Validation Accuracy: 29.00%\n",
      "Epoch: 3, Training Time: 8.33s, Training Accuracy: 36.00%, Validation Accuracy: 33.50%\n",
      "Epoch: 4, Training Time: 11.02s, Training Accuracy: 45.25%, Validation Accuracy: 39.50%\n",
      "Epoch: 5, Training Time: 13.89s, Training Accuracy: 54.00%, Validation Accuracy: 49.00%\n",
      "Epoch: 6, Training Time: 16.60s, Training Accuracy: 60.00%, Validation Accuracy: 56.00%\n",
      "Epoch: 7, Training Time: 19.42s, Training Accuracy: 65.75%, Validation Accuracy: 61.00%\n",
      "Epoch: 8, Training Time: 22.25s, Training Accuracy: 69.12%, Validation Accuracy: 65.50%\n",
      "Epoch: 9, Training Time: 24.99s, Training Accuracy: 70.75%, Validation Accuracy: 67.00%\n",
      "Epoch: 10, Training Time: 27.66s, Training Accuracy: 72.25%, Validation Accuracy: 68.00%\n",
      "Epoch: 11, Training Time: 30.36s, Training Accuracy: 73.62%, Validation Accuracy: 70.50%\n",
      "Epoch: 12, Training Time: 33.04s, Training Accuracy: 74.75%, Validation Accuracy: 71.50%\n",
      "Epoch: 13, Training Time: 35.72s, Training Accuracy: 75.88%, Validation Accuracy: 72.00%\n",
      "Epoch: 14, Training Time: 37.97s, Training Accuracy: 76.62%, Validation Accuracy: 72.50%\n",
      "Epoch: 15, Training Time: 40.49s, Training Accuracy: 77.50%, Validation Accuracy: 73.00%\n",
      "Epoch: 16, Training Time: 43.30s, Training Accuracy: 78.88%, Validation Accuracy: 75.50%\n",
      "Epoch: 17, Training Time: 46.02s, Training Accuracy: 79.38%, Validation Accuracy: 75.50%\n",
      "Epoch: 18, Training Time: 48.78s, Training Accuracy: 79.88%, Validation Accuracy: 77.00%\n",
      "Epoch: 19, Training Time: 51.59s, Training Accuracy: 80.25%, Validation Accuracy: 77.00%\n",
      "Epoch: 20, Training Time: 54.46s, Training Accuracy: 80.38%, Validation Accuracy: 77.00%\n",
      "Epoch: 21, Training Time: 56.99s, Training Accuracy: 80.88%, Validation Accuracy: 77.50%\n",
      "Epoch: 22, Training Time: 59.88s, Training Accuracy: 81.38%, Validation Accuracy: 77.50%\n",
      "Epoch: 23, Training Time: 62.26s, Training Accuracy: 81.62%, Validation Accuracy: 77.50%\n",
      "Epoch: 24, Training Time: 64.87s, Training Accuracy: 82.12%, Validation Accuracy: 77.50%\n",
      "Epoch: 25, Training Time: 67.41s, Training Accuracy: 82.38%, Validation Accuracy: 78.00%\n",
      "Epoch: 26, Training Time: 70.06s, Training Accuracy: 82.88%, Validation Accuracy: 78.00%\n",
      "Epoch: 27, Training Time: 72.76s, Training Accuracy: 83.00%, Validation Accuracy: 78.00%\n",
      "Epoch: 28, Training Time: 75.39s, Training Accuracy: 83.25%, Validation Accuracy: 78.00%\n",
      "Epoch: 29, Training Time: 78.18s, Training Accuracy: 83.50%, Validation Accuracy: 78.50%\n",
      "Epoch: 30, Training Time: 80.72s, Training Accuracy: 83.88%, Validation Accuracy: 78.50%\n",
      "Epoch: 31, Training Time: 83.48s, Training Accuracy: 84.25%, Validation Accuracy: 78.00%\n",
      "Epoch: 32, Training Time: 86.21s, Training Accuracy: 84.50%, Validation Accuracy: 78.00%\n",
      "Epoch: 33, Training Time: 88.85s, Training Accuracy: 84.88%, Validation Accuracy: 78.00%\n",
      "Epoch: 34, Training Time: 91.55s, Training Accuracy: 85.00%, Validation Accuracy: 78.00%\n",
      "Epoch: 35, Training Time: 94.39s, Training Accuracy: 85.38%, Validation Accuracy: 78.00%\n",
      "Epoch: 36, Training Time: 97.19s, Training Accuracy: 85.62%, Validation Accuracy: 78.50%\n",
      "Epoch: 37, Training Time: 99.91s, Training Accuracy: 86.12%, Validation Accuracy: 78.50%\n",
      "Epoch: 38, Training Time: 102.65s, Training Accuracy: 86.12%, Validation Accuracy: 78.50%\n",
      "Epoch: 39, Training Time: 105.31s, Training Accuracy: 86.62%, Validation Accuracy: 79.00%\n",
      "Epoch: 40, Training Time: 107.94s, Training Accuracy: 86.62%, Validation Accuracy: 79.00%\n",
      "Epoch: 41, Training Time: 110.58s, Training Accuracy: 87.00%, Validation Accuracy: 79.50%\n",
      "Epoch: 42, Training Time: 113.26s, Training Accuracy: 87.25%, Validation Accuracy: 79.50%\n",
      "Epoch: 43, Training Time: 115.98s, Training Accuracy: 87.50%, Validation Accuracy: 79.50%\n",
      "Epoch: 44, Training Time: 118.69s, Training Accuracy: 87.75%, Validation Accuracy: 79.50%\n",
      "Epoch: 45, Training Time: 121.33s, Training Accuracy: 87.75%, Validation Accuracy: 79.50%\n",
      "Epoch: 46, Training Time: 124.11s, Training Accuracy: 87.88%, Validation Accuracy: 79.50%\n",
      "Epoch: 47, Training Time: 126.68s, Training Accuracy: 88.00%, Validation Accuracy: 79.50%\n",
      "Epoch: 48, Training Time: 129.38s, Training Accuracy: 88.12%, Validation Accuracy: 79.50%\n",
      "Epoch: 49, Training Time: 132.13s, Training Accuracy: 88.38%, Validation Accuracy: 80.00%\n",
      "Epoch: 50, Training Time: 134.92s, Training Accuracy: 88.38%, Validation Accuracy: 80.00%\n",
      " \n",
      "The training accuracy is 88.38%\n",
      "The validation accuracy is 80.00%\n"
     ]
    }
   ],
   "source": [
    "fnn = Network(sizes=[784, 128, 64, 10], learning_rate=0.1, epochs=50)\n",
    "fnn_history = fnn.fit(x_train, y_train, x_val, y_val, cosine_annealing_lr=False)"
   ]
  },
  {
   "cell_type": "markdown",
   "metadata": {},
   "source": [
    "### Test cosine annealing scheduler"
   ]
  },
  {
   "cell_type": "code",
   "execution_count": 7,
   "metadata": {},
   "outputs": [
    {
     "name": "stdout",
     "output_type": "stream",
     "text": [
      "Epoch: 1, Training Time: 2.43s, Training Accuracy: 88.62%, Validation Accuracy: 79.50%\n",
      "Epoch: 2, Training Time: 4.70s, Training Accuracy: 88.75%, Validation Accuracy: 79.00%\n",
      "Epoch: 3, Training Time: 7.35s, Training Accuracy: 88.88%, Validation Accuracy: 79.00%\n",
      "Epoch: 4, Training Time: 10.17s, Training Accuracy: 88.88%, Validation Accuracy: 79.00%\n",
      "Epoch: 5, Training Time: 12.65s, Training Accuracy: 88.75%, Validation Accuracy: 79.50%\n",
      "Epoch: 6, Training Time: 15.53s, Training Accuracy: 88.75%, Validation Accuracy: 80.00%\n",
      "Epoch: 7, Training Time: 18.22s, Training Accuracy: 88.88%, Validation Accuracy: 79.50%\n",
      "Epoch: 8, Training Time: 21.09s, Training Accuracy: 89.00%, Validation Accuracy: 79.50%\n",
      "Epoch: 9, Training Time: 23.78s, Training Accuracy: 89.00%, Validation Accuracy: 80.00%\n",
      "Epoch: 10, Training Time: 26.44s, Training Accuracy: 89.12%, Validation Accuracy: 80.00%\n",
      "Epoch: 11, Training Time: 29.28s, Training Accuracy: 89.25%, Validation Accuracy: 80.00%\n",
      "Epoch: 12, Training Time: 31.88s, Training Accuracy: 89.25%, Validation Accuracy: 80.00%\n",
      "Epoch: 13, Training Time: 34.83s, Training Accuracy: 89.25%, Validation Accuracy: 80.50%\n",
      "Epoch: 14, Training Time: 37.44s, Training Accuracy: 89.25%, Validation Accuracy: 80.50%\n",
      "Epoch: 15, Training Time: 40.24s, Training Accuracy: 89.25%, Validation Accuracy: 80.50%\n",
      "Epoch: 16, Training Time: 43.23s, Training Accuracy: 89.25%, Validation Accuracy: 81.00%\n",
      "Epoch: 17, Training Time: 46.05s, Training Accuracy: 89.25%, Validation Accuracy: 81.00%\n",
      "Epoch: 18, Training Time: 48.75s, Training Accuracy: 89.25%, Validation Accuracy: 81.00%\n",
      "Epoch: 19, Training Time: 51.52s, Training Accuracy: 90.88%, Validation Accuracy: 83.50%\n",
      "Epoch: 20, Training Time: 54.34s, Training Accuracy: 92.88%, Validation Accuracy: 84.00%\n",
      "Epoch: 21, Training Time: 57.23s, Training Accuracy: 94.00%, Validation Accuracy: 83.50%\n",
      "Epoch: 22, Training Time: 59.99s, Training Accuracy: 94.88%, Validation Accuracy: 83.50%\n",
      "Epoch: 23, Training Time: 62.84s, Training Accuracy: 95.25%, Validation Accuracy: 84.00%\n",
      "Epoch: 24, Training Time: 65.82s, Training Accuracy: 96.50%, Validation Accuracy: 84.50%\n",
      "Epoch: 25, Training Time: 68.69s, Training Accuracy: 96.75%, Validation Accuracy: 84.50%\n",
      "Epoch: 26, Training Time: 71.81s, Training Accuracy: 97.00%, Validation Accuracy: 84.50%\n",
      "Epoch: 27, Training Time: 74.67s, Training Accuracy: 97.25%, Validation Accuracy: 85.50%\n",
      "Epoch: 28, Training Time: 77.07s, Training Accuracy: 97.62%, Validation Accuracy: 85.50%\n",
      "Epoch: 29, Training Time: 80.19s, Training Accuracy: 97.88%, Validation Accuracy: 85.50%\n",
      "Epoch: 30, Training Time: 82.75s, Training Accuracy: 97.88%, Validation Accuracy: 86.00%\n",
      "Epoch: 31, Training Time: 85.47s, Training Accuracy: 97.88%, Validation Accuracy: 86.00%\n",
      "Epoch: 32, Training Time: 87.98s, Training Accuracy: 98.00%, Validation Accuracy: 86.00%\n",
      "Epoch: 33, Training Time: 91.16s, Training Accuracy: 98.00%, Validation Accuracy: 86.00%\n",
      "Epoch: 34, Training Time: 93.70s, Training Accuracy: 98.00%, Validation Accuracy: 86.00%\n",
      "Epoch: 35, Training Time: 96.37s, Training Accuracy: 98.25%, Validation Accuracy: 86.00%\n",
      "Epoch: 36, Training Time: 98.78s, Training Accuracy: 98.25%, Validation Accuracy: 85.50%\n",
      "Epoch: 37, Training Time: 101.59s, Training Accuracy: 98.62%, Validation Accuracy: 86.00%\n",
      "Epoch: 38, Training Time: 104.44s, Training Accuracy: 98.62%, Validation Accuracy: 86.00%\n",
      "Epoch: 39, Training Time: 106.28s, Training Accuracy: 98.62%, Validation Accuracy: 86.00%\n",
      "Epoch: 40, Training Time: 108.02s, Training Accuracy: 98.62%, Validation Accuracy: 85.50%\n",
      "Epoch: 41, Training Time: 109.87s, Training Accuracy: 98.62%, Validation Accuracy: 85.50%\n",
      "Epoch: 42, Training Time: 112.08s, Training Accuracy: 98.62%, Validation Accuracy: 85.50%\n",
      "Epoch: 43, Training Time: 114.59s, Training Accuracy: 98.62%, Validation Accuracy: 85.50%\n",
      "Epoch: 44, Training Time: 117.46s, Training Accuracy: 98.62%, Validation Accuracy: 85.50%\n",
      "Epoch: 45, Training Time: 119.45s, Training Accuracy: 98.62%, Validation Accuracy: 85.50%\n",
      "Epoch: 46, Training Time: 122.03s, Training Accuracy: 98.75%, Validation Accuracy: 85.50%\n",
      "Epoch: 47, Training Time: 125.03s, Training Accuracy: 98.75%, Validation Accuracy: 85.50%\n",
      "Epoch: 48, Training Time: 127.64s, Training Accuracy: 98.75%, Validation Accuracy: 85.00%\n",
      "Epoch: 49, Training Time: 130.29s, Training Accuracy: 98.75%, Validation Accuracy: 85.00%\n",
      "Epoch: 50, Training Time: 133.18s, Training Accuracy: 98.88%, Validation Accuracy: 85.00%\n",
      " \n",
      "The training accuracy is 98.88%\n",
      "The validation accuracy is 85.00%\n"
     ]
    }
   ],
   "source": [
    "cosine_history = fnn.fit(x_train, y_train, x_val, y_val, cosine_annealing_lr=True)"
   ]
  },
  {
   "cell_type": "markdown",
   "metadata": {},
   "source": [
    "### Test residual neural network"
   ]
  },
  {
   "cell_type": "code",
   "execution_count": 8,
   "metadata": {},
   "outputs": [
    {
     "name": "stdout",
     "output_type": "stream",
     "text": [
      "Epoch: 1, Training Time: 4.37s, Training Accuracy: 66.38%, Validation Accuracy: 63.50%\n",
      "Epoch: 2, Training Time: 8.59s, Training Accuracy: 84.50%, Validation Accuracy: 83.50%\n",
      "Epoch: 3, Training Time: 13.28s, Training Accuracy: 90.75%, Validation Accuracy: 84.00%\n",
      "Epoch: 4, Training Time: 17.76s, Training Accuracy: 93.50%, Validation Accuracy: 84.50%\n",
      "Epoch: 5, Training Time: 21.80s, Training Accuracy: 95.75%, Validation Accuracy: 85.00%\n",
      "Epoch: 6, Training Time: 26.13s, Training Accuracy: 97.38%, Validation Accuracy: 84.50%\n",
      "Epoch: 7, Training Time: 30.14s, Training Accuracy: 97.75%, Validation Accuracy: 86.00%\n",
      "Epoch: 8, Training Time: 34.57s, Training Accuracy: 98.00%, Validation Accuracy: 86.50%\n",
      "Epoch: 9, Training Time: 38.94s, Training Accuracy: 98.38%, Validation Accuracy: 87.50%\n",
      "Epoch: 10, Training Time: 43.28s, Training Accuracy: 98.50%, Validation Accuracy: 88.00%\n",
      "Epoch: 11, Training Time: 47.75s, Training Accuracy: 99.25%, Validation Accuracy: 88.00%\n",
      "Epoch: 12, Training Time: 52.17s, Training Accuracy: 99.50%, Validation Accuracy: 87.50%\n",
      "Epoch: 13, Training Time: 56.50s, Training Accuracy: 99.50%, Validation Accuracy: 88.50%\n",
      "Epoch: 14, Training Time: 60.96s, Training Accuracy: 99.50%, Validation Accuracy: 88.50%\n",
      "Epoch: 15, Training Time: 65.26s, Training Accuracy: 99.62%, Validation Accuracy: 88.50%\n",
      "Epoch: 16, Training Time: 69.70s, Training Accuracy: 99.75%, Validation Accuracy: 88.50%\n",
      "Epoch: 17, Training Time: 74.34s, Training Accuracy: 99.75%, Validation Accuracy: 88.50%\n",
      "Epoch: 18, Training Time: 78.71s, Training Accuracy: 99.75%, Validation Accuracy: 88.50%\n",
      "Epoch: 19, Training Time: 83.24s, Training Accuracy: 99.75%, Validation Accuracy: 88.50%\n",
      "Epoch: 20, Training Time: 87.75s, Training Accuracy: 99.75%, Validation Accuracy: 88.50%\n",
      "Epoch: 21, Training Time: 92.17s, Training Accuracy: 99.75%, Validation Accuracy: 88.50%\n",
      "Epoch: 22, Training Time: 96.32s, Training Accuracy: 99.75%, Validation Accuracy: 88.50%\n",
      "Epoch: 23, Training Time: 100.77s, Training Accuracy: 99.75%, Validation Accuracy: 88.50%\n",
      "Epoch: 24, Training Time: 105.41s, Training Accuracy: 99.75%, Validation Accuracy: 89.00%\n",
      "Epoch: 25, Training Time: 109.77s, Training Accuracy: 99.75%, Validation Accuracy: 89.00%\n",
      "Epoch: 26, Training Time: 114.19s, Training Accuracy: 99.88%, Validation Accuracy: 89.00%\n",
      "Epoch: 27, Training Time: 118.54s, Training Accuracy: 99.88%, Validation Accuracy: 88.50%\n",
      "Epoch: 28, Training Time: 122.84s, Training Accuracy: 99.88%, Validation Accuracy: 88.50%\n",
      "Epoch: 29, Training Time: 127.15s, Training Accuracy: 99.88%, Validation Accuracy: 89.00%\n",
      "Epoch: 30, Training Time: 131.46s, Training Accuracy: 99.88%, Validation Accuracy: 89.00%\n",
      "Epoch: 31, Training Time: 136.03s, Training Accuracy: 99.88%, Validation Accuracy: 89.00%\n",
      "Epoch: 32, Training Time: 140.42s, Training Accuracy: 99.88%, Validation Accuracy: 89.00%\n",
      "Epoch: 33, Training Time: 144.81s, Training Accuracy: 99.88%, Validation Accuracy: 89.00%\n",
      "Epoch: 34, Training Time: 149.30s, Training Accuracy: 99.88%, Validation Accuracy: 89.00%\n",
      "Epoch: 35, Training Time: 153.49s, Training Accuracy: 99.88%, Validation Accuracy: 89.00%\n",
      "Epoch: 36, Training Time: 157.87s, Training Accuracy: 99.88%, Validation Accuracy: 89.00%\n",
      "Epoch: 37, Training Time: 162.20s, Training Accuracy: 99.88%, Validation Accuracy: 89.00%\n",
      "Epoch: 38, Training Time: 166.41s, Training Accuracy: 99.88%, Validation Accuracy: 89.00%\n",
      "Epoch: 39, Training Time: 170.51s, Training Accuracy: 99.88%, Validation Accuracy: 89.00%\n",
      "Epoch: 40, Training Time: 174.89s, Training Accuracy: 99.88%, Validation Accuracy: 89.00%\n",
      "Epoch: 41, Training Time: 179.30s, Training Accuracy: 99.88%, Validation Accuracy: 89.00%\n",
      "Epoch: 42, Training Time: 183.62s, Training Accuracy: 100.00%, Validation Accuracy: 89.00%\n",
      "Epoch: 43, Training Time: 187.92s, Training Accuracy: 100.00%, Validation Accuracy: 89.00%\n",
      "Epoch: 44, Training Time: 192.45s, Training Accuracy: 100.00%, Validation Accuracy: 87.50%\n",
      "Epoch: 45, Training Time: 196.79s, Training Accuracy: 100.00%, Validation Accuracy: 89.00%\n",
      "Epoch: 46, Training Time: 201.33s, Training Accuracy: 100.00%, Validation Accuracy: 89.00%\n",
      "Epoch: 47, Training Time: 205.83s, Training Accuracy: 100.00%, Validation Accuracy: 89.00%\n",
      "Epoch: 48, Training Time: 210.14s, Training Accuracy: 100.00%, Validation Accuracy: 89.00%\n",
      "Epoch: 49, Training Time: 214.45s, Training Accuracy: 100.00%, Validation Accuracy: 89.00%\n",
      "Epoch: 50, Training Time: 218.28s, Training Accuracy: 100.00%, Validation Accuracy: 89.00%\n",
      " \n",
      "The training accuracy is 100.00%\n",
      "The validation accuracy is 89.00%\n"
     ]
    }
   ],
   "source": [
    "res_nn = ResNetwork(sizes=[784, 128, 128, 10], learning_rate=1, epochs=50)\n",
    "res_history = res_nn.fit(x_train, y_train, x_val, y_val)"
   ]
  },
  {
   "cell_type": "markdown",
   "metadata": {},
   "source": [
    "## B) Neural Network Classifier using Torch"
   ]
  },
  {
   "cell_type": "markdown",
   "metadata": {},
   "source": [
    "### Data"
   ]
  },
  {
   "cell_type": "code",
   "execution_count": 9,
   "metadata": {},
   "outputs": [],
   "source": [
    "# Define data preprocessing steps\n",
    "transform = transforms.Compose([\n",
    "                transforms.ToTensor(),\n",
    "                transforms.Normalize((0.5,), (0.5,))\n",
    "            ])\n",
    "\n",
    "# Download MNIST dataset\n",
    "train_set = torch_datasets.MNIST('data', train=True, download=True, transform=transform)\n",
    "val_set = torch_datasets.MNIST('data', train=False, download=True, transform=transform)\n",
    "\n",
    "# Use only small subset of data for faster training\n",
    "train_set = torch.utils.data.Subset(train_set, range(1000))\n",
    "val_set = torch.utils.data.Subset(val_set, range(1000))\n",
    "\n",
    "# Utilize PyTorch DataLoader from simplified & harmonized loading of data\n",
    "train_loader = torch.utils.data.DataLoader(train_set, batch_size=1)\n",
    "val_loader = torch.utils.data.DataLoader(val_set, batch_size=1)\n"
   ]
  },
  {
   "cell_type": "markdown",
   "metadata": {},
   "source": [
    "### ML Model & Training"
   ]
  },
  {
   "cell_type": "code",
   "execution_count": 10,
   "metadata": {},
   "outputs": [
    {
     "name": "stdout",
     "output_type": "stream",
     "text": [
      "Epoch: 1, Training Time: 9.98s, Learning Rate: 0.2, Training Accuracy: 12.10%, Validation Accuracy: 10.20%\n",
      "Epoch: 2, Training Time: 20.12s, Learning Rate: 0.2, Training Accuracy: 41.10%, Validation Accuracy: 38.40%\n",
      "Epoch: 3, Training Time: 30.71s, Learning Rate: 0.2, Training Accuracy: 56.10%, Validation Accuracy: 52.90%\n",
      "Epoch: 4, Training Time: 40.58s, Learning Rate: 0.2, Training Accuracy: 66.80%, Validation Accuracy: 61.30%\n",
      "Epoch: 5, Training Time: 51.92s, Learning Rate: 0.2, Training Accuracy: 72.70%, Validation Accuracy: 66.70%\n",
      "Epoch: 6, Training Time: 63.08s, Learning Rate: 0.2, Training Accuracy: 76.50%, Validation Accuracy: 68.30%\n",
      "Epoch: 7, Training Time: 74.16s, Learning Rate: 0.2, Training Accuracy: 78.80%, Validation Accuracy: 69.80%\n",
      "Epoch: 8, Training Time: 83.66s, Learning Rate: 0.2, Training Accuracy: 81.30%, Validation Accuracy: 70.20%\n",
      "Epoch: 9, Training Time: 92.44s, Learning Rate: 0.2, Training Accuracy: 83.00%, Validation Accuracy: 72.10%\n",
      "Epoch: 10, Training Time: 101.25s, Learning Rate: 0.2, Training Accuracy: 84.60%, Validation Accuracy: 73.20%\n",
      "Epoch: 11, Training Time: 112.07s, Learning Rate: 0.2, Training Accuracy: 87.00%, Validation Accuracy: 74.70%\n",
      "Epoch: 12, Training Time: 122.97s, Learning Rate: 0.2, Training Accuracy: 88.90%, Validation Accuracy: 75.90%\n",
      "Epoch: 13, Training Time: 132.98s, Learning Rate: 0.2, Training Accuracy: 90.60%, Validation Accuracy: 76.80%\n",
      "Epoch: 14, Training Time: 143.85s, Learning Rate: 0.2, Training Accuracy: 91.50%, Validation Accuracy: 78.40%\n",
      "Epoch: 15, Training Time: 154.73s, Learning Rate: 0.2, Training Accuracy: 92.50%, Validation Accuracy: 79.30%\n",
      "Epoch: 16, Training Time: 165.34s, Learning Rate: 0.2, Training Accuracy: 93.20%, Validation Accuracy: 80.20%\n",
      "Epoch: 17, Training Time: 176.41s, Learning Rate: 0.2, Training Accuracy: 93.80%, Validation Accuracy: 80.80%\n",
      "Epoch: 18, Training Time: 187.43s, Learning Rate: 0.2, Training Accuracy: 95.10%, Validation Accuracy: 81.40%\n",
      "Epoch: 19, Training Time: 195.69s, Learning Rate: 0.2, Training Accuracy: 95.30%, Validation Accuracy: 82.10%\n",
      "Epoch: 20, Training Time: 203.90s, Learning Rate: 0.2, Training Accuracy: 96.30%, Validation Accuracy: 82.50%\n",
      "Epoch: 21, Training Time: 213.69s, Learning Rate: 0.2, Training Accuracy: 96.90%, Validation Accuracy: 82.90%\n",
      "Epoch: 22, Training Time: 223.91s, Learning Rate: 0.2, Training Accuracy: 97.60%, Validation Accuracy: 83.10%\n",
      "Epoch: 23, Training Time: 233.58s, Learning Rate: 0.2, Training Accuracy: 98.50%, Validation Accuracy: 83.50%\n",
      "Epoch: 24, Training Time: 244.85s, Learning Rate: 0.2, Training Accuracy: 99.00%, Validation Accuracy: 83.50%\n",
      "Epoch: 25, Training Time: 254.97s, Learning Rate: 0.2, Training Accuracy: 99.30%, Validation Accuracy: 84.20%\n",
      "Epoch: 26, Training Time: 266.17s, Learning Rate: 0.2, Training Accuracy: 99.40%, Validation Accuracy: 84.20%\n",
      "Epoch: 27, Training Time: 276.62s, Learning Rate: 0.2, Training Accuracy: 99.60%, Validation Accuracy: 84.30%\n",
      "Epoch: 28, Training Time: 287.81s, Learning Rate: 0.2, Training Accuracy: 99.70%, Validation Accuracy: 84.30%\n",
      "Epoch: 29, Training Time: 299.07s, Learning Rate: 0.2, Training Accuracy: 99.90%, Validation Accuracy: 84.40%\n",
      "Epoch: 30, Training Time: 309.29s, Learning Rate: 0.2, Training Accuracy: 100.00%, Validation Accuracy: 84.60%\n",
      "Epoch: 31, Training Time: 319.70s, Learning Rate: 0.2, Training Accuracy: 100.00%, Validation Accuracy: 84.60%\n",
      "Epoch: 32, Training Time: 330.46s, Learning Rate: 0.2, Training Accuracy: 100.00%, Validation Accuracy: 84.50%\n",
      "Epoch: 33, Training Time: 340.99s, Learning Rate: 0.2, Training Accuracy: 100.00%, Validation Accuracy: 84.60%\n",
      "Epoch: 34, Training Time: 350.91s, Learning Rate: 0.2, Training Accuracy: 100.00%, Validation Accuracy: 84.60%\n",
      "Epoch: 35, Training Time: 361.16s, Learning Rate: 0.2, Training Accuracy: 100.00%, Validation Accuracy: 85.00%\n",
      "Epoch: 36, Training Time: 371.29s, Learning Rate: 0.2, Training Accuracy: 100.00%, Validation Accuracy: 85.00%\n",
      "Epoch: 37, Training Time: 381.41s, Learning Rate: 0.2, Training Accuracy: 100.00%, Validation Accuracy: 85.10%\n",
      "Epoch: 38, Training Time: 391.72s, Learning Rate: 0.2, Training Accuracy: 100.00%, Validation Accuracy: 85.00%\n",
      "Epoch: 39, Training Time: 401.75s, Learning Rate: 0.2, Training Accuracy: 100.00%, Validation Accuracy: 85.00%\n",
      "Epoch: 40, Training Time: 412.14s, Learning Rate: 0.2, Training Accuracy: 100.00%, Validation Accuracy: 85.00%\n",
      "Epoch: 41, Training Time: 422.67s, Learning Rate: 0.2, Training Accuracy: 100.00%, Validation Accuracy: 85.10%\n",
      "Epoch: 42, Training Time: 432.99s, Learning Rate: 0.2, Training Accuracy: 100.00%, Validation Accuracy: 85.10%\n",
      "Epoch: 43, Training Time: 443.11s, Learning Rate: 0.2, Training Accuracy: 100.00%, Validation Accuracy: 85.20%\n",
      "Epoch: 44, Training Time: 453.62s, Learning Rate: 0.2, Training Accuracy: 100.00%, Validation Accuracy: 85.20%\n",
      "Epoch: 45, Training Time: 464.03s, Learning Rate: 0.2, Training Accuracy: 100.00%, Validation Accuracy: 85.20%\n",
      "Epoch: 46, Training Time: 474.72s, Learning Rate: 0.2, Training Accuracy: 100.00%, Validation Accuracy: 85.30%\n",
      "Epoch: 47, Training Time: 484.87s, Learning Rate: 0.2, Training Accuracy: 100.00%, Validation Accuracy: 85.30%\n",
      "Epoch: 48, Training Time: 494.75s, Learning Rate: 0.2, Training Accuracy: 100.00%, Validation Accuracy: 85.40%\n",
      "Epoch: 49, Training Time: 505.68s, Learning Rate: 0.2, Training Accuracy: 100.00%, Validation Accuracy: 85.40%\n",
      "Epoch: 50, Training Time: 515.94s, Learning Rate: 0.2, Training Accuracy: 100.00%, Validation Accuracy: 85.40%\n",
      " \n",
      "The training accuracy is 100.00%\n",
      "The validation accuracy is 85.40%\n"
     ]
    }
   ],
   "source": [
    "torch_nn = TorchNetwork(sizes=[784, 128, 64, 10], learning_rate=0.2, epochs=50, random_state=GLOBAL_RANDOM_STATE)\n",
    "torch_history = torch_nn.fit(train_loader, val_loader)"
   ]
  },
  {
   "cell_type": "markdown",
   "metadata": {},
   "source": [
    "## C) Visualize accuracy & hyperparameter tuning\n",
    "\n",
    "Here, you should compare the accuracy of all trained models. Optionally, you can also show the results of hyperparameter tuning and comment which hyperparameters work best for this task."
   ]
  },
  {
   "cell_type": "code",
   "execution_count": 14,
   "metadata": {},
   "outputs": [],
   "source": [
    "### BEGIN SOLUTION ###\n",
    " \n",
    "\n",
    "### END SOLUTION ###"
   ]
  },
  {
   "cell_type": "code",
   "execution_count": 16,
   "metadata": {},
   "outputs": [
    {
     "data": {
      "image/png": "[encoded data removed]",
      "text/plain": [
       "<Figure size 800x500 with 1 Axes>"
      ]
     },
     "metadata": {},
     "output_type": "display_data"
    }
   ],
   "source": [
    "import matplotlib.pyplot as plt\n",
    "\n",
    "histories = {\n",
    "    \"FNN\": fnn_history,\n",
    "    \"Cosine\": cosine_history,\n",
    "    \"ResNet\": res_history,\n",
    "    \"Torch\": torch_history,\n",
    "}\n",
    "\n",
    "plt.figure(figsize=(8, 5))\n",
    "\n",
    "for name, h in histories.items():\n",
    "    train = h[\"train_acc\"]\n",
    "    val = h[\"val_acc\"]\n",
    "    epochs = range(1, len(train) + 1)\n",
    "    plt.plot(epochs, train, label=f\"{name} Train\", linewidth=1.8)\n",
    "    plt.plot(epochs, val, linestyle=\"--\", label=f\"{name} Val\", linewidth=1.8)\n",
    "\n",
    "plt.xlabel(\"Epoch\")\n",
    "plt.ylabel(\"Accuracy\")\n",
    "plt.title(\"Train vs Validation Accuracy (All Models)\")\n",
    "plt.grid(True, alpha=0.3)\n",
    "plt.legend(ncol=2)\n",
    "plt.ylim(0, 1.2)\n",
    "plt.tight_layout()\n",
    "plt.show()\n"
   ]
  }
 ],
 "metadata": {
  "kernelspec": {
   "display_name": "Python 3 (ipykernel)",
   "language": "python",
   "name": "python3"
  },
  "language_info": {
   "codemirror_mode": {
    "name": "ipython",
    "version": 3
   },
   "file_extension": ".py",
   "mimetype": "text/x-python",
   "name": "python",
   "nbconvert_exporter": "python",
   "pygments_lexer": "ipython3",
   "version": "3.9.13"
  }
 },
 "nbformat": 4,
 "nbformat_minor": 4
}
