{
 "cells": [
  {
   "cell_type": "markdown",
   "metadata": {},
   "source": [
    "# Problem Set 1 - Neural network implementation"
   ]
  },
  {
   "cell_type": "markdown",
   "metadata": {},
   "source": [
    "As described in section \"3 Neural network implementation\" of assignment 1, the goal is to build a shallow neural network from scratch using different approaches. To validate that your code is working and that the network is actually learning something, please use the following MNIST classification task. Finally, please submit proof of the learning progress as described in the assignment."
   ]
  },
  {
   "cell_type": "markdown",
   "metadata": {},
   "source": [
    "## Imports"
   ]
  },
  {
   "cell_type": "code",
   "execution_count": 64,
   "metadata": {},
   "outputs": [],
   "source": [
    "import random\n",
    "import pandas as pd\n",
    "import numpy as np\n",
    "from sklearn import model_selection\n",
    "import sklearn.datasets as sk_datasets\n",
    "import torchvision.datasets as torch_datasets\n",
    "from torchvision import transforms\n",
    "import torch\n",
    "import matplotlib.pyplot as plt\n",
    "\n",
    "from scratch.network import Network\n",
    "from scratch.res_network import ResNetwork\n",
    "from pytorch.network import TorchNetwork\n",
    "from scratch.utils import *"
   ]
  },
  {
   "cell_type": "code",
   "execution_count": 65,
   "metadata": {},
   "outputs": [
    {
     "name": "stdout",
     "output_type": "stream",
     "text": [
      "The autoreload extension is already loaded. To reload it, use:\n",
      "  %reload_ext autoreload\n"
     ]
    }
   ],
   "source": [
    "# Automatically load changes in imported modules\n",
    "%load_ext autoreload\n",
    "%autoreload 2\n",
    "\n",
    "# Explicitly set seed for reproducibility\n",
    "GLOBAL_RANDOM_STATE = 42\n",
    "\n",
    "random.seed(GLOBAL_RANDOM_STATE)\n",
    "np.random.seed(GLOBAL_RANDOM_STATE)"
   ]
  },
  {
   "cell_type": "markdown",
   "metadata": {},
   "source": [
    "## A) Neural Network Classifier from Scratch"
   ]
  },
  {
   "cell_type": "markdown",
   "metadata": {},
   "source": [
    "### Data"
   ]
  },
  {
   "cell_type": "code",
   "execution_count": 66,
   "metadata": {},
   "outputs": [],
   "source": [
    "# Download MNIST dataset\n",
    "x, y_cat = sk_datasets.fetch_openml('mnist_784', version=1, return_X_y=True, cache=True, as_frame=False)\n",
    "\n",
    "# Preprocess dataset\n",
    "x = (x / 255).astype('float32')\n",
    "y_cat = y_cat.astype(int)\n",
    "# One-hot encode y\n",
    "y = np.zeros((len(y_cat), 10))\n",
    "for i, val in enumerate(y_cat):\n",
    "    y[i, val] = 1\n",
    "\n",
    "# Use only small subset of data for faster training\n",
    "x = x[:1000]\n",
    "y = y[:1000]\n",
    "\n",
    "# Split data into train and validation set\n",
    "x_train, x_val, y_train, y_val = model_selection.train_test_split(x, y, test_size=0.2, random_state=GLOBAL_RANDOM_STATE)\n",
    "\n"
   ]
  },
  {
   "cell_type": "markdown",
   "metadata": {},
   "source": [
    "### ML Model & Training"
   ]
  },
  {
   "cell_type": "code",
   "execution_count": 67,
   "metadata": {},
   "outputs": [
    {
     "name": "stdout",
     "output_type": "stream",
     "text": [
      "Epoch: 1, Training Time: 0.31s, Training Accuracy: 23.62%, Validation Accuracy: 22.00%\n",
      "Epoch: 2, Training Time: 0.67s, Training Accuracy: 28.75%, Validation Accuracy: 29.00%\n",
      "Epoch: 3, Training Time: 0.97s, Training Accuracy: 36.00%, Validation Accuracy: 33.50%\n",
      "Epoch: 4, Training Time: 1.25s, Training Accuracy: 45.25%, Validation Accuracy: 39.50%\n",
      "Epoch: 5, Training Time: 1.52s, Training Accuracy: 54.00%, Validation Accuracy: 49.00%\n",
      "Epoch: 6, Training Time: 1.82s, Training Accuracy: 60.00%, Validation Accuracy: 56.00%\n",
      "Epoch: 7, Training Time: 2.11s, Training Accuracy: 65.75%, Validation Accuracy: 61.00%\n",
      "Epoch: 8, Training Time: 2.39s, Training Accuracy: 69.12%, Validation Accuracy: 65.50%\n",
      "Epoch: 9, Training Time: 2.70s, Training Accuracy: 70.75%, Validation Accuracy: 67.00%\n",
      "Epoch: 10, Training Time: 2.98s, Training Accuracy: 72.25%, Validation Accuracy: 68.00%\n",
      "Epoch: 11, Training Time: 3.25s, Training Accuracy: 73.62%, Validation Accuracy: 70.50%\n",
      "Epoch: 12, Training Time: 3.52s, Training Accuracy: 74.75%, Validation Accuracy: 71.50%\n",
      "Epoch: 13, Training Time: 3.81s, Training Accuracy: 75.88%, Validation Accuracy: 72.00%\n",
      "Epoch: 14, Training Time: 4.09s, Training Accuracy: 76.62%, Validation Accuracy: 72.50%\n",
      "Epoch: 15, Training Time: 4.38s, Training Accuracy: 77.50%, Validation Accuracy: 73.00%\n",
      "Epoch: 16, Training Time: 4.65s, Training Accuracy: 78.88%, Validation Accuracy: 75.50%\n",
      "Epoch: 17, Training Time: 4.94s, Training Accuracy: 79.38%, Validation Accuracy: 75.50%\n",
      "Epoch: 18, Training Time: 5.23s, Training Accuracy: 79.88%, Validation Accuracy: 77.00%\n",
      "Epoch: 19, Training Time: 5.50s, Training Accuracy: 80.25%, Validation Accuracy: 77.00%\n",
      "Epoch: 20, Training Time: 5.79s, Training Accuracy: 80.38%, Validation Accuracy: 77.00%\n",
      "Epoch: 21, Training Time: 6.08s, Training Accuracy: 80.88%, Validation Accuracy: 77.50%\n",
      "Epoch: 22, Training Time: 6.46s, Training Accuracy: 81.38%, Validation Accuracy: 77.50%\n",
      "Epoch: 23, Training Time: 6.75s, Training Accuracy: 81.62%, Validation Accuracy: 77.50%\n",
      "Epoch: 24, Training Time: 7.03s, Training Accuracy: 82.12%, Validation Accuracy: 77.50%\n",
      "Epoch: 25, Training Time: 7.33s, Training Accuracy: 82.38%, Validation Accuracy: 78.00%\n",
      "Epoch: 26, Training Time: 7.62s, Training Accuracy: 82.88%, Validation Accuracy: 78.00%\n",
      "Epoch: 27, Training Time: 7.90s, Training Accuracy: 83.00%, Validation Accuracy: 78.00%\n",
      "Epoch: 28, Training Time: 8.16s, Training Accuracy: 83.25%, Validation Accuracy: 78.00%\n",
      "Epoch: 29, Training Time: 8.46s, Training Accuracy: 83.50%, Validation Accuracy: 78.50%\n",
      "Epoch: 30, Training Time: 8.76s, Training Accuracy: 83.88%, Validation Accuracy: 78.50%\n",
      "Epoch: 31, Training Time: 9.03s, Training Accuracy: 84.25%, Validation Accuracy: 78.00%\n",
      "Epoch: 32, Training Time: 9.32s, Training Accuracy: 84.50%, Validation Accuracy: 78.00%\n",
      "Epoch: 33, Training Time: 9.62s, Training Accuracy: 84.88%, Validation Accuracy: 78.00%\n",
      "Epoch: 34, Training Time: 9.93s, Training Accuracy: 85.00%, Validation Accuracy: 78.00%\n",
      "Epoch: 35, Training Time: 10.23s, Training Accuracy: 85.38%, Validation Accuracy: 78.00%\n",
      "Epoch: 36, Training Time: 10.49s, Training Accuracy: 85.62%, Validation Accuracy: 78.50%\n",
      "Epoch: 37, Training Time: 10.75s, Training Accuracy: 86.12%, Validation Accuracy: 78.50%\n",
      "Epoch: 38, Training Time: 11.01s, Training Accuracy: 86.12%, Validation Accuracy: 78.50%\n",
      "Epoch: 39, Training Time: 11.26s, Training Accuracy: 86.62%, Validation Accuracy: 79.00%\n",
      "Epoch: 40, Training Time: 11.51s, Training Accuracy: 86.62%, Validation Accuracy: 79.00%\n",
      "Epoch: 41, Training Time: 11.79s, Training Accuracy: 87.00%, Validation Accuracy: 79.50%\n",
      "Epoch: 42, Training Time: 12.06s, Training Accuracy: 87.25%, Validation Accuracy: 79.50%\n",
      "Epoch: 43, Training Time: 12.40s, Training Accuracy: 87.50%, Validation Accuracy: 79.50%\n",
      "Epoch: 44, Training Time: 12.69s, Training Accuracy: 87.75%, Validation Accuracy: 79.50%\n",
      "Epoch: 45, Training Time: 12.97s, Training Accuracy: 87.75%, Validation Accuracy: 79.50%\n",
      "Epoch: 46, Training Time: 13.30s, Training Accuracy: 87.88%, Validation Accuracy: 79.50%\n",
      "Epoch: 47, Training Time: 13.61s, Training Accuracy: 88.00%, Validation Accuracy: 79.50%\n",
      "Epoch: 48, Training Time: 13.92s, Training Accuracy: 88.12%, Validation Accuracy: 79.50%\n",
      "Epoch: 49, Training Time: 14.20s, Training Accuracy: 88.38%, Validation Accuracy: 80.00%\n",
      "Epoch: 50, Training Time: 14.48s, Training Accuracy: 88.38%, Validation Accuracy: 80.00%\n"
     ]
    }
   ],
   "source": [
    "fnn = Network(sizes=[784, 128, 64, 10], learning_rate=0.1, epochs=50)\n",
    "fnn.fit(x_train, y_train, x_val, y_val, cosine_annealing_lr=False)"
   ]
  },
  {
   "cell_type": "markdown",
   "metadata": {},
   "source": [
    "### Test cosine annealing scheduler"
   ]
  },
  {
   "cell_type": "code",
   "execution_count": 68,
   "metadata": {},
   "outputs": [
    {
     "name": "stdout",
     "output_type": "stream",
     "text": [
      "Epoch: 1, Training Time: 0.34s, Training Accuracy: 88.50%, Validation Accuracy: 80.00%\n",
      "Epoch: 2, Training Time: 0.60s, Training Accuracy: 88.50%, Validation Accuracy: 79.50%\n",
      "Epoch: 3, Training Time: 0.87s, Training Accuracy: 88.50%, Validation Accuracy: 79.50%\n",
      "Epoch: 4, Training Time: 1.12s, Training Accuracy: 88.75%, Validation Accuracy: 79.50%\n",
      "Epoch: 5, Training Time: 1.38s, Training Accuracy: 88.75%, Validation Accuracy: 79.00%\n",
      "Epoch: 6, Training Time: 1.64s, Training Accuracy: 88.88%, Validation Accuracy: 79.00%\n",
      "Epoch: 7, Training Time: 1.91s, Training Accuracy: 88.88%, Validation Accuracy: 79.00%\n",
      "Epoch: 8, Training Time: 2.19s, Training Accuracy: 88.75%, Validation Accuracy: 79.00%\n",
      "Epoch: 9, Training Time: 2.45s, Training Accuracy: 88.75%, Validation Accuracy: 80.00%\n",
      "Epoch: 10, Training Time: 2.72s, Training Accuracy: 88.75%, Validation Accuracy: 80.00%\n",
      "Epoch: 11, Training Time: 2.99s, Training Accuracy: 89.00%, Validation Accuracy: 79.50%\n",
      "Epoch: 12, Training Time: 3.24s, Training Accuracy: 89.12%, Validation Accuracy: 79.50%\n",
      "Epoch: 13, Training Time: 3.50s, Training Accuracy: 89.12%, Validation Accuracy: 79.50%\n",
      "Epoch: 14, Training Time: 3.77s, Training Accuracy: 89.25%, Validation Accuracy: 80.00%\n",
      "Epoch: 15, Training Time: 4.06s, Training Accuracy: 89.25%, Validation Accuracy: 80.00%\n",
      "Epoch: 16, Training Time: 4.36s, Training Accuracy: 89.25%, Validation Accuracy: 80.50%\n",
      "Epoch: 17, Training Time: 4.61s, Training Accuracy: 89.25%, Validation Accuracy: 80.50%\n",
      "Epoch: 18, Training Time: 4.86s, Training Accuracy: 89.25%, Validation Accuracy: 80.50%\n",
      "Epoch: 19, Training Time: 5.16s, Training Accuracy: 89.25%, Validation Accuracy: 81.00%\n",
      "Epoch: 20, Training Time: 5.41s, Training Accuracy: 89.25%, Validation Accuracy: 81.00%\n",
      "Epoch: 21, Training Time: 5.68s, Training Accuracy: 89.25%, Validation Accuracy: 81.00%\n",
      "Epoch: 22, Training Time: 5.98s, Training Accuracy: 90.12%, Validation Accuracy: 81.50%\n",
      "Epoch: 23, Training Time: 6.24s, Training Accuracy: 91.75%, Validation Accuracy: 84.00%\n",
      "Epoch: 24, Training Time: 6.55s, Training Accuracy: 93.38%, Validation Accuracy: 83.50%\n",
      "Epoch: 25, Training Time: 6.82s, Training Accuracy: 94.12%, Validation Accuracy: 83.50%\n",
      "Epoch: 26, Training Time: 7.06s, Training Accuracy: 95.00%, Validation Accuracy: 83.50%\n",
      "Epoch: 27, Training Time: 7.33s, Training Accuracy: 96.00%, Validation Accuracy: 84.50%\n",
      "Epoch: 28, Training Time: 7.59s, Training Accuracy: 96.62%, Validation Accuracy: 84.50%\n",
      "Epoch: 29, Training Time: 7.84s, Training Accuracy: 96.88%, Validation Accuracy: 84.50%\n",
      "Epoch: 30, Training Time: 8.09s, Training Accuracy: 97.00%, Validation Accuracy: 86.00%\n",
      "Epoch: 31, Training Time: 8.35s, Training Accuracy: 97.62%, Validation Accuracy: 85.50%\n",
      "Epoch: 32, Training Time: 8.60s, Training Accuracy: 97.62%, Validation Accuracy: 85.50%\n",
      "Epoch: 33, Training Time: 8.85s, Training Accuracy: 97.88%, Validation Accuracy: 86.00%\n",
      "Epoch: 34, Training Time: 9.15s, Training Accuracy: 97.88%, Validation Accuracy: 86.00%\n",
      "Epoch: 35, Training Time: 9.42s, Training Accuracy: 98.00%, Validation Accuracy: 86.00%\n",
      "Epoch: 36, Training Time: 9.66s, Training Accuracy: 98.00%, Validation Accuracy: 86.00%\n",
      "Epoch: 37, Training Time: 9.93s, Training Accuracy: 98.00%, Validation Accuracy: 86.00%\n",
      "Epoch: 38, Training Time: 10.20s, Training Accuracy: 98.12%, Validation Accuracy: 86.00%\n",
      "Epoch: 39, Training Time: 10.45s, Training Accuracy: 98.25%, Validation Accuracy: 85.50%\n",
      "Epoch: 40, Training Time: 10.74s, Training Accuracy: 98.50%, Validation Accuracy: 86.00%\n",
      "Epoch: 41, Training Time: 11.00s, Training Accuracy: 98.62%, Validation Accuracy: 86.00%\n",
      "Epoch: 42, Training Time: 11.31s, Training Accuracy: 98.62%, Validation Accuracy: 86.00%\n",
      "Epoch: 43, Training Time: 11.57s, Training Accuracy: 98.62%, Validation Accuracy: 85.50%\n",
      "Epoch: 44, Training Time: 11.87s, Training Accuracy: 98.62%, Validation Accuracy: 86.00%\n",
      "Epoch: 45, Training Time: 12.15s, Training Accuracy: 98.62%, Validation Accuracy: 85.50%\n",
      "Epoch: 46, Training Time: 12.42s, Training Accuracy: 98.62%, Validation Accuracy: 85.00%\n",
      "Epoch: 47, Training Time: 12.66s, Training Accuracy: 98.62%, Validation Accuracy: 85.50%\n",
      "Epoch: 48, Training Time: 12.92s, Training Accuracy: 98.62%, Validation Accuracy: 85.50%\n",
      "Epoch: 49, Training Time: 13.18s, Training Accuracy: 98.62%, Validation Accuracy: 85.50%\n",
      "Epoch: 50, Training Time: 13.48s, Training Accuracy: 98.75%, Validation Accuracy: 85.50%\n"
     ]
    }
   ],
   "source": [
    "fnn.fit(x_train, y_train, x_val, y_val, cosine_annealing_lr=True)"
   ]
  },
  {
   "cell_type": "markdown",
   "metadata": {},
   "source": [
    "### Test residual neural network"
   ]
  },
  {
   "cell_type": "code",
   "execution_count": 77,
   "metadata": {},
   "outputs": [
    {
     "name": "stdout",
     "output_type": "stream",
     "text": [
      "Epoch: 1, Training Time: 0.28s, Training Accuracy: 15.75%, Validation Accuracy: 13.50%\n",
      "Epoch: 2, Training Time: 0.57s, Training Accuracy: 30.38%, Validation Accuracy: 24.50%\n",
      "Epoch: 3, Training Time: 0.86s, Training Accuracy: 40.50%, Validation Accuracy: 36.00%\n",
      "Epoch: 4, Training Time: 1.14s, Training Accuracy: 51.38%, Validation Accuracy: 49.00%\n",
      "Epoch: 5, Training Time: 1.43s, Training Accuracy: 59.50%, Validation Accuracy: 57.50%\n",
      "Epoch: 6, Training Time: 1.73s, Training Accuracy: 66.25%, Validation Accuracy: 67.50%\n",
      "Epoch: 7, Training Time: 2.01s, Training Accuracy: 72.00%, Validation Accuracy: 71.00%\n",
      "Epoch: 8, Training Time: 2.29s, Training Accuracy: 75.62%, Validation Accuracy: 74.50%\n",
      "Epoch: 9, Training Time: 2.58s, Training Accuracy: 79.50%, Validation Accuracy: 76.50%\n",
      "Epoch: 10, Training Time: 2.86s, Training Accuracy: 81.00%, Validation Accuracy: 78.00%\n",
      "Epoch: 11, Training Time: 3.16s, Training Accuracy: 82.25%, Validation Accuracy: 80.50%\n",
      "Epoch: 12, Training Time: 3.45s, Training Accuracy: 82.88%, Validation Accuracy: 81.00%\n",
      "Epoch: 13, Training Time: 3.76s, Training Accuracy: 84.25%, Validation Accuracy: 81.00%\n",
      "Epoch: 14, Training Time: 4.04s, Training Accuracy: 85.50%, Validation Accuracy: 81.50%\n",
      "Epoch: 15, Training Time: 4.35s, Training Accuracy: 86.38%, Validation Accuracy: 82.50%\n",
      "Epoch: 16, Training Time: 4.63s, Training Accuracy: 87.25%, Validation Accuracy: 82.50%\n",
      "Epoch: 17, Training Time: 4.94s, Training Accuracy: 88.00%, Validation Accuracy: 82.50%\n",
      "Epoch: 18, Training Time: 5.23s, Training Accuracy: 88.88%, Validation Accuracy: 83.50%\n",
      "Epoch: 19, Training Time: 5.52s, Training Accuracy: 89.62%, Validation Accuracy: 84.00%\n",
      "Epoch: 20, Training Time: 5.80s, Training Accuracy: 90.38%, Validation Accuracy: 84.00%\n",
      "Epoch: 21, Training Time: 6.14s, Training Accuracy: 91.12%, Validation Accuracy: 84.00%\n",
      "Epoch: 22, Training Time: 6.45s, Training Accuracy: 92.12%, Validation Accuracy: 84.50%\n",
      "Epoch: 23, Training Time: 6.72s, Training Accuracy: 92.62%, Validation Accuracy: 84.50%\n",
      "Epoch: 24, Training Time: 7.01s, Training Accuracy: 93.00%, Validation Accuracy: 85.00%\n",
      "Epoch: 25, Training Time: 7.32s, Training Accuracy: 93.12%, Validation Accuracy: 85.00%\n",
      "Epoch: 26, Training Time: 7.62s, Training Accuracy: 93.38%, Validation Accuracy: 86.00%\n",
      "Epoch: 27, Training Time: 7.91s, Training Accuracy: 93.62%, Validation Accuracy: 86.50%\n",
      "Epoch: 28, Training Time: 8.22s, Training Accuracy: 94.00%, Validation Accuracy: 87.00%\n",
      "Epoch: 29, Training Time: 8.53s, Training Accuracy: 94.00%, Validation Accuracy: 87.00%\n",
      "Epoch: 30, Training Time: 8.84s, Training Accuracy: 94.38%, Validation Accuracy: 87.00%\n",
      "Epoch: 31, Training Time: 9.13s, Training Accuracy: 94.62%, Validation Accuracy: 86.50%\n",
      "Epoch: 32, Training Time: 9.41s, Training Accuracy: 94.62%, Validation Accuracy: 87.00%\n",
      "Epoch: 33, Training Time: 9.69s, Training Accuracy: 94.62%, Validation Accuracy: 87.00%\n",
      "Epoch: 34, Training Time: 9.98s, Training Accuracy: 94.88%, Validation Accuracy: 87.00%\n",
      "Epoch: 35, Training Time: 10.32s, Training Accuracy: 95.12%, Validation Accuracy: 87.00%\n",
      "Epoch: 36, Training Time: 10.59s, Training Accuracy: 95.12%, Validation Accuracy: 87.00%\n",
      "Epoch: 37, Training Time: 10.88s, Training Accuracy: 95.38%, Validation Accuracy: 87.00%\n",
      "Epoch: 38, Training Time: 11.18s, Training Accuracy: 95.62%, Validation Accuracy: 87.00%\n",
      "Epoch: 39, Training Time: 11.48s, Training Accuracy: 95.50%, Validation Accuracy: 87.00%\n",
      "Epoch: 40, Training Time: 11.74s, Training Accuracy: 95.62%, Validation Accuracy: 87.00%\n",
      "Epoch: 41, Training Time: 12.02s, Training Accuracy: 95.88%, Validation Accuracy: 87.00%\n",
      "Epoch: 42, Training Time: 12.30s, Training Accuracy: 95.88%, Validation Accuracy: 87.00%\n",
      "Epoch: 43, Training Time: 12.59s, Training Accuracy: 96.00%, Validation Accuracy: 87.00%\n",
      "Epoch: 44, Training Time: 12.89s, Training Accuracy: 95.88%, Validation Accuracy: 87.00%\n",
      "Epoch: 45, Training Time: 13.17s, Training Accuracy: 95.88%, Validation Accuracy: 86.00%\n",
      "Epoch: 46, Training Time: 13.45s, Training Accuracy: 96.00%, Validation Accuracy: 86.00%\n",
      "Epoch: 47, Training Time: 13.73s, Training Accuracy: 96.00%, Validation Accuracy: 85.50%\n",
      "Epoch: 48, Training Time: 14.02s, Training Accuracy: 96.00%, Validation Accuracy: 85.50%\n",
      "Epoch: 49, Training Time: 14.31s, Training Accuracy: 96.00%, Validation Accuracy: 85.00%\n",
      "Epoch: 50, Training Time: 14.58s, Training Accuracy: 95.88%, Validation Accuracy: 85.00%\n"
     ]
    }
   ],
   "source": [
    "res_nn = ResNetwork(sizes=[784, 128, 128, 10], learning_rate=.1, epochs=50)\n",
    "res_nn.fit(x_train, y_train, x_val, y_val)"
   ]
  },
  {
   "cell_type": "markdown",
   "metadata": {},
   "source": [
    "## B) Neural Network Classifier using Torch"
   ]
  },
  {
   "cell_type": "markdown",
   "metadata": {},
   "source": [
    "### Data"
   ]
  },
  {
   "cell_type": "code",
   "execution_count": 73,
   "metadata": {},
   "outputs": [],
   "source": [
    "# Define data preprocessing steps\n",
    "transform = transforms.Compose([\n",
    "                transforms.ToTensor(),\n",
    "                transforms.Normalize((0.5,), (0.5,))\n",
    "            ])\n",
    "\n",
    "# Download MNIST dataset\n",
    "train_set = torch_datasets.MNIST('data', train=True, download=True, transform=transform)\n",
    "val_set = torch_datasets.MNIST('data', train=False, download=True, transform=transform)\n",
    "\n",
    "# Use only small subset of data for faster training\n",
    "train_set = torch.utils.data.Subset(train_set, range(1000))\n",
    "val_set = torch.utils.data.Subset(val_set, range(1000))\n",
    "\n",
    "# Utilize PyTorch DataLoader from simplified & harmonized loading of data\n",
    "train_loader = torch.utils.data.DataLoader(train_set, batch_size=1)\n",
    "val_loader = torch.utils.data.DataLoader(val_set, batch_size=1)\n"
   ]
  },
  {
   "cell_type": "markdown",
   "metadata": {},
   "source": [
    "### ML Model & Training"
   ]
  },
  {
   "cell_type": "code",
   "execution_count": 75,
   "metadata": {},
   "outputs": [
    {
     "name": "stdout",
     "output_type": "stream",
     "text": [
      "Epoch: 1, Training Time: 0.95s, Learning Rate: 0.2, Training Accuracy: 11.70%, Validation Accuracy: 9.90%\n",
      "Epoch: 2, Training Time: 1.88s, Learning Rate: 0.2, Training Accuracy: 11.70%, Validation Accuracy: 9.90%\n",
      "Epoch: 3, Training Time: 2.80s, Learning Rate: 0.2, Training Accuracy: 11.70%, Validation Accuracy: 9.90%\n",
      "Epoch: 4, Training Time: 3.73s, Learning Rate: 0.2, Training Accuracy: 11.70%, Validation Accuracy: 9.90%\n",
      "Epoch: 5, Training Time: 4.65s, Learning Rate: 0.2, Training Accuracy: 11.70%, Validation Accuracy: 9.90%\n",
      "Epoch: 6, Training Time: 5.57s, Learning Rate: 0.2, Training Accuracy: 11.70%, Validation Accuracy: 9.90%\n",
      "Epoch: 7, Training Time: 6.49s, Learning Rate: 0.2, Training Accuracy: 17.70%, Validation Accuracy: 12.00%\n",
      "Epoch: 8, Training Time: 7.41s, Learning Rate: 0.2, Training Accuracy: 21.10%, Validation Accuracy: 20.60%\n",
      "Epoch: 9, Training Time: 8.34s, Learning Rate: 0.2, Training Accuracy: 29.10%, Validation Accuracy: 25.80%\n",
      "Epoch: 10, Training Time: 9.25s, Learning Rate: 0.2, Training Accuracy: 29.80%, Validation Accuracy: 27.70%\n",
      "Epoch: 11, Training Time: 10.22s, Learning Rate: 0.2, Training Accuracy: 30.40%, Validation Accuracy: 28.50%\n",
      "Epoch: 12, Training Time: 11.14s, Learning Rate: 0.2, Training Accuracy: 31.20%, Validation Accuracy: 29.30%\n",
      "Epoch: 13, Training Time: 12.07s, Learning Rate: 0.2, Training Accuracy: 31.50%, Validation Accuracy: 29.60%\n",
      "Epoch: 14, Training Time: 12.99s, Learning Rate: 0.2, Training Accuracy: 32.40%, Validation Accuracy: 29.90%\n",
      "Epoch: 15, Training Time: 13.91s, Learning Rate: 0.2, Training Accuracy: 36.40%, Validation Accuracy: 33.80%\n",
      "Epoch: 16, Training Time: 14.83s, Learning Rate: 0.2, Training Accuracy: 39.70%, Validation Accuracy: 36.80%\n",
      "Epoch: 17, Training Time: 15.74s, Learning Rate: 0.2, Training Accuracy: 44.10%, Validation Accuracy: 40.30%\n",
      "Epoch: 18, Training Time: 16.66s, Learning Rate: 0.2, Training Accuracy: 48.20%, Validation Accuracy: 45.30%\n",
      "Epoch: 19, Training Time: 17.58s, Learning Rate: 0.2, Training Accuracy: 51.50%, Validation Accuracy: 48.60%\n",
      "Epoch: 20, Training Time: 18.50s, Learning Rate: 0.2, Training Accuracy: 56.00%, Validation Accuracy: 52.80%\n",
      "Epoch: 21, Training Time: 19.42s, Learning Rate: 0.2, Training Accuracy: 57.90%, Validation Accuracy: 54.80%\n",
      "Epoch: 22, Training Time: 20.34s, Learning Rate: 0.2, Training Accuracy: 58.50%, Validation Accuracy: 55.80%\n",
      "Epoch: 23, Training Time: 21.26s, Learning Rate: 0.2, Training Accuracy: 58.70%, Validation Accuracy: 56.50%\n",
      "Epoch: 24, Training Time: 22.18s, Learning Rate: 0.2, Training Accuracy: 59.60%, Validation Accuracy: 57.30%\n",
      "Epoch: 25, Training Time: 23.10s, Learning Rate: 0.2, Training Accuracy: 62.10%, Validation Accuracy: 57.60%\n",
      "Epoch: 26, Training Time: 24.02s, Learning Rate: 0.2, Training Accuracy: 65.20%, Validation Accuracy: 58.80%\n",
      "Epoch: 27, Training Time: 24.94s, Learning Rate: 0.2, Training Accuracy: 67.60%, Validation Accuracy: 60.10%\n",
      "Epoch: 28, Training Time: 25.86s, Learning Rate: 0.2, Training Accuracy: 69.60%, Validation Accuracy: 60.90%\n",
      "Epoch: 29, Training Time: 26.78s, Learning Rate: 0.2, Training Accuracy: 70.70%, Validation Accuracy: 61.90%\n",
      "Epoch: 30, Training Time: 27.70s, Learning Rate: 0.2, Training Accuracy: 72.00%, Validation Accuracy: 62.70%\n",
      "Epoch: 31, Training Time: 28.62s, Learning Rate: 0.2, Training Accuracy: 75.30%, Validation Accuracy: 65.00%\n",
      "Epoch: 32, Training Time: 29.55s, Learning Rate: 0.2, Training Accuracy: 78.10%, Validation Accuracy: 66.80%\n",
      "Epoch: 33, Training Time: 30.53s, Learning Rate: 0.2, Training Accuracy: 80.60%, Validation Accuracy: 68.30%\n",
      "Epoch: 34, Training Time: 31.44s, Learning Rate: 0.2, Training Accuracy: 81.80%, Validation Accuracy: 69.90%\n",
      "Epoch: 35, Training Time: 32.35s, Learning Rate: 0.2, Training Accuracy: 82.80%, Validation Accuracy: 71.00%\n",
      "Epoch: 36, Training Time: 33.27s, Learning Rate: 0.2, Training Accuracy: 83.30%, Validation Accuracy: 71.30%\n",
      "Epoch: 37, Training Time: 34.18s, Learning Rate: 0.2, Training Accuracy: 84.10%, Validation Accuracy: 72.00%\n",
      "Epoch: 38, Training Time: 35.11s, Learning Rate: 0.2, Training Accuracy: 85.10%, Validation Accuracy: 72.10%\n",
      "Epoch: 39, Training Time: 36.03s, Learning Rate: 0.2, Training Accuracy: 85.20%, Validation Accuracy: 72.80%\n",
      "Epoch: 40, Training Time: 36.95s, Learning Rate: 0.2, Training Accuracy: 85.30%, Validation Accuracy: 73.40%\n",
      "Epoch: 41, Training Time: 37.87s, Learning Rate: 0.2, Training Accuracy: 85.60%, Validation Accuracy: 73.50%\n",
      "Epoch: 42, Training Time: 38.79s, Learning Rate: 0.2, Training Accuracy: 86.00%, Validation Accuracy: 74.10%\n",
      "Epoch: 43, Training Time: 39.75s, Learning Rate: 0.2, Training Accuracy: 89.70%, Validation Accuracy: 75.80%\n",
      "Epoch: 44, Training Time: 40.67s, Learning Rate: 0.2, Training Accuracy: 90.60%, Validation Accuracy: 76.80%\n",
      "Epoch: 45, Training Time: 41.59s, Learning Rate: 0.2, Training Accuracy: 91.40%, Validation Accuracy: 77.30%\n",
      "Epoch: 46, Training Time: 42.51s, Learning Rate: 0.2, Training Accuracy: 92.00%, Validation Accuracy: 77.80%\n",
      "Epoch: 47, Training Time: 43.43s, Learning Rate: 0.2, Training Accuracy: 92.90%, Validation Accuracy: 78.60%\n",
      "Epoch: 48, Training Time: 44.37s, Learning Rate: 0.2, Training Accuracy: 93.50%, Validation Accuracy: 79.30%\n",
      "Epoch: 49, Training Time: 45.39s, Learning Rate: 0.2, Training Accuracy: 93.70%, Validation Accuracy: 80.00%\n",
      "Epoch: 50, Training Time: 46.32s, Learning Rate: 0.2, Training Accuracy: 93.80%, Validation Accuracy: 80.50%\n"
     ]
    }
   ],
   "source": [
    "torch_nn = TorchNetwork(sizes=[784, 128, 64, 10], learning_rate=0.2, epochs=50, random_state=GLOBAL_RANDOM_STATE)\n",
    "torch_nn.fit(train_loader, val_loader)"
   ]
  },
  {
   "cell_type": "markdown",
   "metadata": {},
   "source": [
    "## C) Visualize accuracy & hyperparameter tuning\n",
    "\n",
    "Here, you should compare the accuracy of all trained models. Optionally, you can also show the results of hyperparameter tuning and comment which hyperparameters work best for this task."
   ]
  },
  {
   "cell_type": "code",
   "execution_count": 78,
   "metadata": {},
   "outputs": [
    {
     "data": {
      "image/png": "[encoded data removed]",
      "text/plain": [
       "<Figure size 1000x600 with 1 Axes>"
      ]
     },
     "metadata": {},
     "output_type": "display_data"
    }
   ],
   "source": [
    "### BEGIN SOLUTION ###\n",
    " \n",
    "#Compute accuracies for all the models\n",
    "fnn_train_acc = float(fnn.compute_accuracy(x_train, y_train))\n",
    "fnn_val_acc = float(fnn.compute_accuracy(x_val, y_val))\n",
    "\n",
    "fnn_cosine_train_acc = float(fnn_cosine.compute_accuracy(x_train, y_train))\n",
    "fnn_cosine_val_acc = float(fnn_cosine.compute_accuracy(x_val, y_val))\n",
    "\n",
    "res_nn_train_acc = float(res_nn.compute_accuracy(x_train, y_train))\n",
    "res_nn_val_acc = float(res_nn.compute_accuracy(x_val, y_val))\n",
    "\n",
    "torch_train_acc = torch_nn.predict(train_loader)  \n",
    "torch_val_acc = torch_nn.predict(val_loader)\n",
    "\n",
    "#Build dictionary\n",
    "results = {\n",
    "    \"Feedforward NN\": (fnn_train_acc, fnn_val_acc),\n",
    "    \"Feedforward + CosineAnnealing\": (fnn_cosine_train_acc, fnn_cosine_val_acc),\n",
    "    \"Residual NN\": (res_nn_train_acc, res_nn_val_acc),\n",
    "    \"Torch NN\": (torch_train_acc, torch_val_acc)\n",
    "}\n",
    "\n",
    "#Plot\n",
    "\n",
    "\n",
    "models = list(results.keys())\n",
    "train_accs = [results[m][0] for m in models]\n",
    "val_accs = [results[m][1] for m in models]\n",
    "\n",
    "x = np.arange(len(models))\n",
    "width = 0.35\n",
    "\n",
    "plt.figure(figsize=(10,6))\n",
    "plt.bar(x - width/2, train_accs, width, label='Train')\n",
    "plt.bar(x + width/2, val_accs, width, label='Validation')\n",
    "\n",
    "plt.xticks(x, models, rotation=20)\n",
    "plt.ylabel(\"Accuracy\")\n",
    "plt.title(\"MNIST Classification Accuracy\")\n",
    "plt.legend()\n",
    "plt.grid(axis='y')\n",
    "plt.show()\n",
    "\n",
    "\n",
    "### END SOLUTION ###"
   ]
  }
 ],
 "metadata": {
  "kernelspec": {
   "display_name": "DLPS1",
   "language": "python",
   "name": "python3"
  },
  "language_info": {
   "codemirror_mode": {
    "name": "ipython",
    "version": 3
   },
   "file_extension": ".py",
   "mimetype": "text/x-python",
   "name": "python",
   "nbconvert_exporter": "python",
   "pygments_lexer": "ipython3",
   "version": "3.13.7"
  },
  "orig_nbformat": 4
 },
 "nbformat": 4,
 "nbformat_minor": 2
}
