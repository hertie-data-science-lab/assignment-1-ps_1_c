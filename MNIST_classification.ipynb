{
 "cells": [
  {
   "cell_type": "markdown",
   "metadata": {},
   "source": [
    "# Problem Set 1 - Neural network implementation"
   ]
  },
  {
   "cell_type": "markdown",
   "metadata": {},
   "source": [
    "As described in section \"3 Neural network implementation\" of assignment 1, the goal is to build a shallow neural network from scratch using different approaches. To validate that your code is working and that the network is actually learning something, please use the following MNIST classification task. Finally, please submit proof of the learning progress as described in the assignment."
   ]
  },
  {
   "cell_type": "markdown",
   "metadata": {},
   "source": [
    "## Imports"
   ]
  },
  {
   "cell_type": "code",
   "execution_count": null,
   "metadata": {},
   "outputs": [],
   "source": [
    "import random\n",
    "import pandas as pd\n",
    "import numpy as np\n",
    "from sklearn import model_selection\n",
    "import sklearn.datasets as sk_datasets\n",
    "import torchvision.datasets as torch_datasets\n",
    "from torchvision import transforms\n",
    "import torch\n",
    "import matplotlib.pyplot as plt\n",
    "\n",
    "from scratch.network import Network\n",
    "from scratch.res_network import ResNetwork\n",
    "from pytorch.network import TorchNetwork\n",
    "from scratch.utils import *"
   ]
  },
  {
   "cell_type": "code",
   "execution_count": 3,
   "metadata": {},
   "outputs": [],
   "source": [
    "# Automatically load changes in imported modules\n",
    "%load_ext autoreload\n",
    "%autoreload 2\n",
    "\n",
    "# Explicitly set seed for reproducibility\n",
    "GLOBAL_RANDOM_STATE = 42\n",
    "\n",
    "random.seed(GLOBAL_RANDOM_STATE)\n",
    "np.random.seed(GLOBAL_RANDOM_STATE)"
   ]
  },
  {
   "cell_type": "markdown",
   "metadata": {},
   "source": [
    "## A) Neural Network Classifier from Scratch"
   ]
  },
  {
   "cell_type": "markdown",
   "metadata": {},
   "source": [
    "### Data"
   ]
  },
  {
   "cell_type": "code",
   "execution_count": 4,
   "metadata": {},
   "outputs": [],
   "source": [
    "# Download MNIST dataset\n",
    "x, y_cat = sk_datasets.fetch_openml('mnist_784', version=1, return_X_y=True, cache=True, as_frame=False)\n",
    "\n",
    "# Preprocess dataset\n",
    "x = (x / 255).astype('float32')\n",
    "y_cat = y_cat.astype(int)\n",
    "# One-hot encode y\n",
    "y = np.zeros((len(y_cat), 10))\n",
    "for i, val in enumerate(y_cat):\n",
    "    y[i, val] = 1\n",
    "\n",
    "# Use only small subset of data for faster training\n",
    "x = x[:1000]\n",
    "y = y[:1000]\n",
    "\n",
    "# Split data into train and validation set\n",
    "x_train, x_val, y_train, y_val = model_selection.train_test_split(x, y, test_size=0.2, random_state=GLOBAL_RANDOM_STATE)\n",
    "\n"
   ]
  },
  {
   "cell_type": "markdown",
   "metadata": {},
   "source": [
    "### ML Model & Training"
   ]
  },
  {
   "cell_type": "code",
   "execution_count": null,
   "metadata": {},
   "outputs": [],
   "source": [
    "fnn = Network(sizes=[784, 128, 64, 10], learning_rate=0.1, epochs=50)\n",
    "fnn.fit(x_train, y_train, x_val, y_val, cosine_annealing_lr=False)"
   ]
  },
  {
   "cell_type": "markdown",
   "metadata": {},
   "source": [
    "### Test cosine annealing scheduler"
   ]
  },
  {
   "cell_type": "code",
   "execution_count": null,
   "metadata": {},
   "outputs": [],
   "source": [
    "fnn.fit(x_train, y_train, x_val, y_val, cosine_annealing_lr=True)"
   ]
  },
  {
   "cell_type": "markdown",
   "metadata": {},
   "source": [
    "### Test residual neural network"
   ]
  },
  {
   "cell_type": "code",
   "execution_count": null,
   "metadata": {},
   "outputs": [],
   "source": [
    "res_nn = ResNetwork(sizes=[784, 128, 128, 10], learning_rate=1, epochs=50)\n",
    "res_nn.fit(x_train, y_train, x_val, y_val)"
   ]
  },
  {
   "cell_type": "markdown",
   "metadata": {},
   "source": [
    "## B) Neural Network Classifier using Torch"
   ]
  },
  {
   "cell_type": "markdown",
   "metadata": {},
   "source": [
    "### Data"
   ]
  },
  {
   "cell_type": "code",
   "execution_count": 48,
   "metadata": {},
   "outputs": [],
   "source": [
    "# Define data preprocessing steps\n",
    "transform = transforms.Compose([\n",
    "                transforms.ToTensor(),\n",
    "                transforms.Normalize((0.5,), (0.5,))\n",
    "            ])\n",
    "\n",
    "# Download MNIST dataset\n",
    "train_set = torch_datasets.MNIST('data', train=True, download=True, transform=transform)\n",
    "val_set = torch_datasets.MNIST('data', train=False, download=True, transform=transform)\n",
    "\n",
    "# Use only small subset of data for faster training\n",
    "train_set = torch.utils.data.Subset(train_set, range(1000))\n",
    "val_set = torch.utils.data.Subset(val_set, range(1000))\n",
    "\n",
    "# Utilize PyTorch DataLoader from simplified & harmonized loading of data\n",
    "train_loader = torch.utils.data.DataLoader(train_set, batch_size=1)\n",
    "val_loader = torch.utils.data.DataLoader(val_set, batch_size=1)\n"
   ]
  },
  {
   "cell_type": "markdown",
   "metadata": {},
   "source": [
    "### ML Model & Training"
   ]
  },
  {
   "cell_type": "code",
   "execution_count": null,
   "metadata": {},
   "outputs": [],
   "source": [
    "torch_nn = TorchNetwork(sizes=[784, 128, 64, 10], learning_rate=0.2, epochs=50, random_state=GLOBAL_RANDOM_STATE)\n",
    "torch_nn.fit(train_loader, val_loader)"
   ]
  },
  {
   "cell_type": "markdown",
   "metadata": {},
   "source": [
    "## C) Visualize accuracy & hyperparameter tuning\n",
    "\n",
    "Here, you should compare the accuracy of all trained models. Optionally, you can also show the results of hyperparameter tuning and comment which hyperparameters work best for this task."
   ]
  },
  {
   "cell_type": "code",
   "execution_count": null,
   "metadata": {},
   "outputs": [],
   "source": [
"    \"### BEGIN SOLUTION ###\\n\",\n",
"    \"\\n\",\n",
"    \"# Feedforward NN\\n\",\n",
"    \"fnn = Network(sizes=[784, 128, 64, 10], learning_rate=0.1, epochs=50)\\n\",\n",
"    \"fnn.fit(x_train, y_train, x_val, y_val)\\n\",\n",
"    \"\\n\",\n",
"    \"# Feedforward NN + Cosine Annealing\\n\",\n",
"    \"fnn_cosine = Network(sizes=[784, 128, 64, 10], learning_rate=0.1, epochs=50)\\n\",\n",
"    \"fnn_cosine.fit(x_train, y_train, x_val, y_val, cosine_annealing_lr=True)\\n\",\n",
"    \"\\n\",\n",
"    \"# Residual NN\\n\",\n",
"    \"res_nn = ResNetwork(sizes=[784, 128, 128, 10], learning_rate=0.1, epochs=50)\\n\",\n",
"    \"res_nn.fit(x_train, y_train, x_val, y_val)\\n\",\n",
"    \"\\n\",\n",
"    \"# PyTorch NN\\n\",\n",
"    \"torch_nn = TorchNetwork(sizes=[784, 128, 64, 10], learning_rate=0.2, epochs=50, random_state=GLOBAL_RANDOM_STATE)\\n\",\n",
"    \"torch_nn.fit(train_loader, val_loader)\\n\",\n",
"    \"\\n\",\n",
"    \"# Compute accuracies for all the models\\n\",\n",
"    \"fnn_train_acc = float(fnn.compute_accuracy(x_train, y_train))\\n\",\n",
"    \"fnn_val_acc = float(fnn.compute_accuracy(x_val, y_val))\\n\",\n",
"    \"\\n\",\n",
"    \"fnn_cosine_train_acc = float(fnn_cosine.compute_accuracy(x_train, y_train))\\n\",\n",
"    \"fnn_cosine_val_acc = float(fnn_cosine.compute_accuracy(x_val, y_val))\\n\",\n",
"    \"\\n\",\n",
"    \"res_nn_train_acc = float(res_nn.compute_accuracy(x_train, y_train))\\n\",\n",
"    \"res_nn_val_acc = float(res_nn.compute_accuracy(x_val, y_val))\\n\",\n",
"    \"\\n\",\n",
"    \"torch_train_acc = torch_nn.predict(train_loader)\\n\",\n",
"    \"torch_val_acc = torch_nn.predict(val_loader)\\n\",\n",
"    \"\\n\",\n",
"    \"# Build dictionary\\n\",\n",
"    \"results = {\\n\",\n",
"    \"    \\\"Feedforward NN\\\": (fnn_train_acc, fnn_val_acc),\\n\",\n",
"    \"    \\\"Feedforward + CosineAnnealing\\\": (fnn_cosine_train_acc, fnn_cosine_val_acc),\\n\",\n",
"    \"    \\\"Residual NN\\\": (res_nn_train_acc, res_nn_val_acc),\\n\",\n",
"    \"    \\\"Torch NN\\\": (torch_train_acc, torch_val_acc)\\n\",\n",
"    \"}\\n\",\n",
"    \"\\n\",\n",
"    \"# Plot\\n\",\n",
"    \"models = list(results.keys())\\n\",\n",
"    \"train_accs = [results[m][0] for m in models]\\n\",\n",
"    \"val_accs = [results[m][1] for m in models]\\n\",\n",
"    \"\\n\",\n",
"    \"x = np.arange(len(models))\\n\",\n",
"    \"width = 0.35\\n\",\n",
"    \"\\n\",\n",
"    \"plt.figure(figsize=(10,6))\\n\",\n",
"    \"plt.bar(x - width/2, train_accs, width, label='Train')\\n\",\n",
"    \"plt.bar(x + width/2, val_accs, width, label='Validation')\\n\",\n",
"    \"\\n\",\n",
"    \"plt.xticks(x, models, rotation=20)\\n\",\n",
"    \"plt.ylabel(\\\"Accuracy\\\")\\n\",\n",
"    \"plt.title(\\\"MNIST Classification Accuracy\\\")\\n\",\n",
"    \"plt.legend()\\n\",\n",
"    \"plt.grid(axis='y')\\n\",\n",
"    \"plt.show()\\n\",\n",
"    \"\\n\",\n",
"    \"### END SOLUTION ###\\n\"\n"
   ]
  }
 ],
 "metadata": {
  "kernelspec": {
   "display_name": "venv",
   "language": "python",
   "name": "python3"
  },
  "language_info": {
   "codemirror_mode": {
    "name": "ipython",
    "version": 3
   },
   "file_extension": ".py",
   "mimetype": "text/x-python",
   "name": "python",
   "nbconvert_exporter": "python",
   "pygments_lexer": "ipython3",
   "version": "3.12.4"
  },
  "orig_nbformat": 4
 },
 "nbformat": 4,
 "nbformat_minor": 2
}
