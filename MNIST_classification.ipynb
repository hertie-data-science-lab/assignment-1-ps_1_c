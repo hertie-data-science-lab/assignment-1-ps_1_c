{
 "cells": [
  {
   "cell_type": "markdown",
   "metadata": {},
   "source": [
    "# Problem Set 1 - Neural network implementation"
   ]
  },
  {
   "cell_type": "markdown",
   "metadata": {},
   "source": [
    "As described in section \"3 Neural network implementation\" of assignment 1, the goal is to build a shallow neural network from scratch using different approaches. To validate that your code is working and that the network is actually learning something, please use the following MNIST classification task. Finally, please submit proof of the learning progress as described in the assignment."
   ]
  },
  {
   "cell_type": "markdown",
   "metadata": {},
   "source": [
    "## Imports"
   ]
  },
  {
   "cell_type": "code",
   "execution_count": 1,
   "metadata": {},
   "outputs": [],
   "source": [
    "import random\n",
    "import pandas as pd\n",
    "import numpy as np\n",
    "from sklearn import model_selection\n",
    "import sklearn.datasets as sk_datasets\n",
    "import torchvision.datasets as torch_datasets\n",
    "from torchvision import transforms\n",
    "import torch\n",
    "import matplotlib.pyplot as plt\n",
    "\n",
    "from scratch.network import Network\n",
    "from scratch.res_network import ResNetwork\n",
    "from pytorch.network import TorchNetwork\n",
    "from scratch.utils import *"
   ]
  },
  {
   "cell_type": "code",
   "execution_count": 2,
   "metadata": {},
   "outputs": [],
   "source": [
    "# Automatically load changes in imported modules\n",
    "%load_ext autoreload\n",
    "%autoreload 2\n",
    "\n",
    "# Explicitly set seed for reproducibility\n",
    "GLOBAL_RANDOM_STATE = 42\n",
    "\n",
    "random.seed(GLOBAL_RANDOM_STATE)\n",
    "np.random.seed(GLOBAL_RANDOM_STATE)"
   ]
  },
  {
   "cell_type": "markdown",
   "metadata": {},
   "source": [
    "## A) Neural Network Classifier from Scratch"
   ]
  },
  {
   "cell_type": "markdown",
   "metadata": {},
   "source": [
    "### Data"
   ]
  },
  {
   "cell_type": "code",
   "execution_count": 3,
   "metadata": {},
   "outputs": [],
   "source": [
    "# Download MNIST dataset\n",
    "x, y_cat = sk_datasets.fetch_openml('mnist_784', version=1, return_X_y=True, cache=True, as_frame=False)\n",
    "\n",
    "# Preprocess dataset\n",
    "x = (x / 255).astype('float32')\n",
    "y_cat = y_cat.astype(int)\n",
    "# One-hot encode y\n",
    "y = np.zeros((len(y_cat), 10))\n",
    "for i, val in enumerate(y_cat):\n",
    "    y[i, val] = 1\n",
    "\n",
    "# Use only small subset of data for faster training\n",
    "x = x[:1000]\n",
    "y = y[:1000]\n",
    "\n",
    "# Split data into train and validation set\n",
    "x_train, x_val, y_train, y_val = model_selection.train_test_split(x, y, test_size=0.2, random_state=GLOBAL_RANDOM_STATE)"
   ]
  },
  {
   "cell_type": "markdown",
   "metadata": {},
   "source": [
    "### ML Model & Training"
   ]
  },
  {
   "cell_type": "code",
   "execution_count": 4,
   "metadata": {},
   "outputs": [
    {
     "name": "stdout",
     "output_type": "stream",
     "text": [
      "Epoch: 1, Training Time: 0.27s, Training Accuracy: 23.62%, Validation Accuracy: 22.00%\n",
      "Epoch: 2, Training Time: 0.53s, Training Accuracy: 28.75%, Validation Accuracy: 29.00%\n",
      "Epoch: 3, Training Time: 0.80s, Training Accuracy: 36.00%, Validation Accuracy: 33.50%\n",
      "Epoch: 4, Training Time: 1.07s, Training Accuracy: 45.25%, Validation Accuracy: 39.50%\n",
      "Epoch: 5, Training Time: 1.33s, Training Accuracy: 54.00%, Validation Accuracy: 49.00%\n",
      "Epoch: 6, Training Time: 1.59s, Training Accuracy: 60.00%, Validation Accuracy: 56.00%\n",
      "Epoch: 7, Training Time: 1.87s, Training Accuracy: 65.75%, Validation Accuracy: 61.00%\n",
      "Epoch: 8, Training Time: 2.13s, Training Accuracy: 69.12%, Validation Accuracy: 65.50%\n",
      "Epoch: 9, Training Time: 2.41s, Training Accuracy: 70.75%, Validation Accuracy: 67.00%\n",
      "Epoch: 10, Training Time: 2.68s, Training Accuracy: 72.25%, Validation Accuracy: 68.00%\n",
      "Epoch: 11, Training Time: 2.95s, Training Accuracy: 73.62%, Validation Accuracy: 70.50%\n",
      "Epoch: 12, Training Time: 3.20s, Training Accuracy: 74.75%, Validation Accuracy: 71.50%\n",
      "Epoch: 13, Training Time: 3.47s, Training Accuracy: 75.88%, Validation Accuracy: 72.00%\n",
      "Epoch: 14, Training Time: 3.74s, Training Accuracy: 76.62%, Validation Accuracy: 72.50%\n",
      "Epoch: 15, Training Time: 4.00s, Training Accuracy: 77.50%, Validation Accuracy: 73.00%\n",
      "Epoch: 16, Training Time: 4.28s, Training Accuracy: 78.88%, Validation Accuracy: 75.50%\n",
      "Epoch: 17, Training Time: 4.54s, Training Accuracy: 79.38%, Validation Accuracy: 75.50%\n",
      "Epoch: 18, Training Time: 4.80s, Training Accuracy: 79.88%, Validation Accuracy: 77.00%\n",
      "Epoch: 19, Training Time: 5.06s, Training Accuracy: 80.25%, Validation Accuracy: 77.00%\n",
      "Epoch: 20, Training Time: 5.32s, Training Accuracy: 80.38%, Validation Accuracy: 77.00%\n",
      "Epoch: 21, Training Time: 5.58s, Training Accuracy: 80.88%, Validation Accuracy: 77.50%\n",
      "Epoch: 22, Training Time: 5.83s, Training Accuracy: 81.38%, Validation Accuracy: 77.50%\n",
      "Epoch: 23, Training Time: 6.10s, Training Accuracy: 81.62%, Validation Accuracy: 77.50%\n",
      "Epoch: 24, Training Time: 6.37s, Training Accuracy: 82.12%, Validation Accuracy: 77.50%\n",
      "Epoch: 25, Training Time: 6.63s, Training Accuracy: 82.38%, Validation Accuracy: 78.00%\n",
      "Epoch: 26, Training Time: 6.90s, Training Accuracy: 82.88%, Validation Accuracy: 78.00%\n",
      "Epoch: 27, Training Time: 7.16s, Training Accuracy: 83.00%, Validation Accuracy: 78.00%\n",
      "Epoch: 28, Training Time: 7.43s, Training Accuracy: 83.25%, Validation Accuracy: 78.00%\n",
      "Epoch: 29, Training Time: 7.74s, Training Accuracy: 83.50%, Validation Accuracy: 78.50%\n",
      "Epoch: 30, Training Time: 8.01s, Training Accuracy: 83.88%, Validation Accuracy: 78.50%\n",
      "Epoch: 31, Training Time: 8.27s, Training Accuracy: 84.25%, Validation Accuracy: 78.00%\n",
      "Epoch: 32, Training Time: 8.53s, Training Accuracy: 84.50%, Validation Accuracy: 78.00%\n",
      "Epoch: 33, Training Time: 8.79s, Training Accuracy: 84.88%, Validation Accuracy: 78.00%\n",
      "Epoch: 34, Training Time: 9.06s, Training Accuracy: 85.00%, Validation Accuracy: 78.00%\n",
      "Epoch: 35, Training Time: 9.33s, Training Accuracy: 85.38%, Validation Accuracy: 78.00%\n",
      "Epoch: 36, Training Time: 9.60s, Training Accuracy: 85.62%, Validation Accuracy: 78.50%\n",
      "Epoch: 37, Training Time: 9.86s, Training Accuracy: 86.12%, Validation Accuracy: 78.50%\n",
      "Epoch: 38, Training Time: 10.14s, Training Accuracy: 86.12%, Validation Accuracy: 78.50%\n",
      "Epoch: 39, Training Time: 10.38s, Training Accuracy: 86.62%, Validation Accuracy: 79.00%\n",
      "Epoch: 40, Training Time: 10.61s, Training Accuracy: 86.62%, Validation Accuracy: 79.00%\n",
      "Epoch: 41, Training Time: 10.84s, Training Accuracy: 87.00%, Validation Accuracy: 79.50%\n",
      "Epoch: 42, Training Time: 11.07s, Training Accuracy: 87.25%, Validation Accuracy: 79.50%\n",
      "Epoch: 43, Training Time: 11.34s, Training Accuracy: 87.50%, Validation Accuracy: 79.50%\n",
      "Epoch: 44, Training Time: 11.57s, Training Accuracy: 87.75%, Validation Accuracy: 79.50%\n",
      "Epoch: 45, Training Time: 11.81s, Training Accuracy: 87.75%, Validation Accuracy: 79.50%\n",
      "Epoch: 46, Training Time: 12.04s, Training Accuracy: 87.88%, Validation Accuracy: 79.50%\n",
      "Epoch: 47, Training Time: 12.28s, Training Accuracy: 88.00%, Validation Accuracy: 79.50%\n",
      "Epoch: 48, Training Time: 12.51s, Training Accuracy: 88.12%, Validation Accuracy: 79.50%\n",
      "Epoch: 49, Training Time: 12.74s, Training Accuracy: 88.38%, Validation Accuracy: 80.00%\n",
      "Epoch: 50, Training Time: 12.98s, Training Accuracy: 88.38%, Validation Accuracy: 80.00%\n"
     ]
    }
   ],
   "source": [
    "fnn = Network(sizes=[784, 128, 64, 10], learning_rate=0.1, epochs=50)\n",
    "fnn.fit(x_train, y_train, x_val, y_val, cosine_annealing_lr=False)"
   ]
  },
  {
   "cell_type": "markdown",
   "metadata": {},
   "source": [
    "### Test cosine annealing scheduler"
   ]
  },
  {
   "cell_type": "code",
   "execution_count": 5,
   "metadata": {},
   "outputs": [
    {
     "name": "stdout",
     "output_type": "stream",
     "text": [
      "Epoch: 1, Training Time: 0.26s, Training Accuracy: 23.62%, Validation Accuracy: 22.00%\n",
      "Epoch: 2, Training Time: 0.53s, Training Accuracy: 28.75%, Validation Accuracy: 29.00%\n",
      "Epoch: 3, Training Time: 0.80s, Training Accuracy: 36.00%, Validation Accuracy: 33.50%\n",
      "Epoch: 4, Training Time: 1.05s, Training Accuracy: 45.25%, Validation Accuracy: 39.50%\n",
      "Epoch: 5, Training Time: 1.31s, Training Accuracy: 54.00%, Validation Accuracy: 49.00%\n",
      "Epoch: 6, Training Time: 1.58s, Training Accuracy: 60.00%, Validation Accuracy: 56.00%\n",
      "Epoch: 7, Training Time: 1.84s, Training Accuracy: 65.75%, Validation Accuracy: 61.00%\n",
      "Epoch: 8, Training Time: 2.10s, Training Accuracy: 69.12%, Validation Accuracy: 65.50%\n",
      "Epoch: 9, Training Time: 2.36s, Training Accuracy: 70.75%, Validation Accuracy: 67.00%\n",
      "Epoch: 10, Training Time: 2.62s, Training Accuracy: 72.25%, Validation Accuracy: 68.00%\n",
      "Epoch: 11, Training Time: 2.89s, Training Accuracy: 73.62%, Validation Accuracy: 70.50%\n",
      "Epoch: 12, Training Time: 3.14s, Training Accuracy: 74.75%, Validation Accuracy: 71.50%\n",
      "Epoch: 13, Training Time: 3.42s, Training Accuracy: 75.88%, Validation Accuracy: 72.00%\n",
      "Epoch: 14, Training Time: 3.68s, Training Accuracy: 76.62%, Validation Accuracy: 72.50%\n",
      "Epoch: 15, Training Time: 3.94s, Training Accuracy: 77.50%, Validation Accuracy: 73.00%\n",
      "Epoch: 16, Training Time: 4.22s, Training Accuracy: 78.88%, Validation Accuracy: 75.50%\n",
      "Epoch: 17, Training Time: 4.48s, Training Accuracy: 79.38%, Validation Accuracy: 75.50%\n",
      "Epoch: 18, Training Time: 4.74s, Training Accuracy: 79.88%, Validation Accuracy: 77.00%\n",
      "Epoch: 19, Training Time: 5.01s, Training Accuracy: 80.25%, Validation Accuracy: 77.00%\n",
      "Epoch: 20, Training Time: 5.27s, Training Accuracy: 80.38%, Validation Accuracy: 77.00%\n",
      "Epoch: 21, Training Time: 5.54s, Training Accuracy: 80.88%, Validation Accuracy: 77.50%\n",
      "Epoch: 22, Training Time: 5.82s, Training Accuracy: 81.38%, Validation Accuracy: 77.50%\n",
      "Epoch: 23, Training Time: 6.10s, Training Accuracy: 81.62%, Validation Accuracy: 77.50%\n",
      "Epoch: 24, Training Time: 6.39s, Training Accuracy: 82.12%, Validation Accuracy: 77.50%\n",
      "Epoch: 25, Training Time: 6.67s, Training Accuracy: 82.38%, Validation Accuracy: 78.00%\n",
      "Epoch: 26, Training Time: 6.93s, Training Accuracy: 82.88%, Validation Accuracy: 78.00%\n",
      "Epoch: 27, Training Time: 7.20s, Training Accuracy: 83.00%, Validation Accuracy: 78.00%\n",
      "Epoch: 28, Training Time: 7.46s, Training Accuracy: 83.25%, Validation Accuracy: 78.00%\n",
      "Epoch: 29, Training Time: 7.72s, Training Accuracy: 83.50%, Validation Accuracy: 78.50%\n",
      "Epoch: 30, Training Time: 7.99s, Training Accuracy: 83.88%, Validation Accuracy: 78.50%\n",
      "Epoch: 31, Training Time: 8.25s, Training Accuracy: 84.25%, Validation Accuracy: 78.00%\n",
      "Epoch: 32, Training Time: 8.51s, Training Accuracy: 84.50%, Validation Accuracy: 78.00%\n",
      "Epoch: 33, Training Time: 8.77s, Training Accuracy: 84.88%, Validation Accuracy: 78.00%\n",
      "Epoch: 34, Training Time: 9.04s, Training Accuracy: 85.00%, Validation Accuracy: 78.00%\n",
      "Epoch: 35, Training Time: 9.31s, Training Accuracy: 85.38%, Validation Accuracy: 78.00%\n",
      "Epoch: 36, Training Time: 9.57s, Training Accuracy: 85.62%, Validation Accuracy: 78.50%\n",
      "Epoch: 37, Training Time: 9.85s, Training Accuracy: 86.12%, Validation Accuracy: 78.50%\n",
      "Epoch: 38, Training Time: 10.12s, Training Accuracy: 86.12%, Validation Accuracy: 78.50%\n",
      "Epoch: 39, Training Time: 10.36s, Training Accuracy: 86.62%, Validation Accuracy: 79.00%\n",
      "Epoch: 40, Training Time: 10.58s, Training Accuracy: 86.62%, Validation Accuracy: 79.00%\n",
      "Epoch: 41, Training Time: 10.79s, Training Accuracy: 87.00%, Validation Accuracy: 79.50%\n",
      "Epoch: 42, Training Time: 11.02s, Training Accuracy: 87.25%, Validation Accuracy: 79.50%\n",
      "Epoch: 43, Training Time: 11.25s, Training Accuracy: 87.50%, Validation Accuracy: 79.50%\n",
      "Epoch: 44, Training Time: 11.47s, Training Accuracy: 87.75%, Validation Accuracy: 79.50%\n",
      "Epoch: 45, Training Time: 11.69s, Training Accuracy: 87.75%, Validation Accuracy: 79.50%\n",
      "Epoch: 46, Training Time: 11.91s, Training Accuracy: 87.88%, Validation Accuracy: 79.50%\n",
      "Epoch: 47, Training Time: 12.13s, Training Accuracy: 88.00%, Validation Accuracy: 79.50%\n",
      "Epoch: 48, Training Time: 12.35s, Training Accuracy: 88.12%, Validation Accuracy: 79.50%\n",
      "Epoch: 49, Training Time: 12.60s, Training Accuracy: 88.38%, Validation Accuracy: 80.00%\n",
      "Epoch: 50, Training Time: 12.83s, Training Accuracy: 88.38%, Validation Accuracy: 80.00%\n"
     ]
    }
   ],
   "source": [
    "cos_nn = Network(sizes=[784, 128, 64, 10], learning_rate=0.1, epochs=50)\n",
    "cos_nn.fit(x_train, y_train, x_val, y_val, cosine_annealing_lr=True)\n",
    "\n",
    "# fnn.fit(x_train, y_train, x_val, y_val, cosine_annealing_lr=True)"
   ]
  },
  {
   "cell_type": "markdown",
   "metadata": {},
   "source": [
    "### Test residual neural network"
   ]
  },
  {
   "cell_type": "code",
   "execution_count": 6,
   "metadata": {},
   "outputs": [
    {
     "name": "stdout",
     "output_type": "stream",
     "text": [
      "Epoch: 1, Training Time: 0.42s, Training Accuracy: 85.38%, Validation Accuracy: 82.50%\n",
      "Epoch: 2, Training Time: 0.85s, Training Accuracy: 91.12%, Validation Accuracy: 84.50%\n",
      "Epoch: 3, Training Time: 1.26s, Training Accuracy: 94.88%, Validation Accuracy: 86.50%\n",
      "Epoch: 4, Training Time: 1.69s, Training Accuracy: 96.12%, Validation Accuracy: 86.50%\n",
      "Epoch: 5, Training Time: 2.11s, Training Accuracy: 96.88%, Validation Accuracy: 87.50%\n",
      "Epoch: 6, Training Time: 2.55s, Training Accuracy: 97.62%, Validation Accuracy: 87.50%\n",
      "Epoch: 7, Training Time: 2.99s, Training Accuracy: 97.88%, Validation Accuracy: 86.50%\n",
      "Epoch: 8, Training Time: 3.43s, Training Accuracy: 98.62%, Validation Accuracy: 87.00%\n",
      "Epoch: 9, Training Time: 3.86s, Training Accuracy: 99.12%, Validation Accuracy: 89.00%\n",
      "Epoch: 10, Training Time: 4.30s, Training Accuracy: 99.12%, Validation Accuracy: 89.00%\n",
      "Epoch: 11, Training Time: 4.73s, Training Accuracy: 99.25%, Validation Accuracy: 89.50%\n",
      "Epoch: 12, Training Time: 5.17s, Training Accuracy: 99.50%, Validation Accuracy: 89.00%\n",
      "Epoch: 13, Training Time: 5.59s, Training Accuracy: 99.75%, Validation Accuracy: 88.50%\n",
      "Epoch: 14, Training Time: 6.02s, Training Accuracy: 99.75%, Validation Accuracy: 88.50%\n",
      "Epoch: 15, Training Time: 6.46s, Training Accuracy: 99.75%, Validation Accuracy: 88.50%\n",
      "Epoch: 16, Training Time: 6.95s, Training Accuracy: 99.75%, Validation Accuracy: 89.00%\n",
      "Epoch: 17, Training Time: 7.39s, Training Accuracy: 99.75%, Validation Accuracy: 89.00%\n",
      "Epoch: 18, Training Time: 7.82s, Training Accuracy: 99.75%, Validation Accuracy: 89.00%\n",
      "Epoch: 19, Training Time: 8.25s, Training Accuracy: 99.75%, Validation Accuracy: 89.00%\n",
      "Epoch: 20, Training Time: 8.69s, Training Accuracy: 99.75%, Validation Accuracy: 89.00%\n",
      "Epoch: 21, Training Time: 9.13s, Training Accuracy: 99.75%, Validation Accuracy: 89.00%\n",
      "Epoch: 22, Training Time: 9.57s, Training Accuracy: 99.75%, Validation Accuracy: 89.00%\n",
      "Epoch: 23, Training Time: 10.01s, Training Accuracy: 99.88%, Validation Accuracy: 89.00%\n",
      "Epoch: 24, Training Time: 10.43s, Training Accuracy: 99.88%, Validation Accuracy: 89.50%\n",
      "Epoch: 25, Training Time: 10.83s, Training Accuracy: 99.88%, Validation Accuracy: 89.00%\n",
      "Epoch: 26, Training Time: 11.25s, Training Accuracy: 99.88%, Validation Accuracy: 89.00%\n",
      "Epoch: 27, Training Time: 11.67s, Training Accuracy: 99.88%, Validation Accuracy: 89.00%\n",
      "Epoch: 28, Training Time: 12.09s, Training Accuracy: 99.88%, Validation Accuracy: 89.00%\n",
      "Epoch: 29, Training Time: 12.50s, Training Accuracy: 99.88%, Validation Accuracy: 89.00%\n",
      "Epoch: 30, Training Time: 12.90s, Training Accuracy: 99.88%, Validation Accuracy: 89.00%\n",
      "Epoch: 31, Training Time: 13.30s, Training Accuracy: 99.88%, Validation Accuracy: 89.00%\n",
      "Epoch: 32, Training Time: 13.76s, Training Accuracy: 99.88%, Validation Accuracy: 89.00%\n",
      "Epoch: 33, Training Time: 14.19s, Training Accuracy: 99.88%, Validation Accuracy: 89.00%\n",
      "Epoch: 34, Training Time: 14.61s, Training Accuracy: 99.88%, Validation Accuracy: 89.00%\n",
      "Epoch: 35, Training Time: 15.02s, Training Accuracy: 99.88%, Validation Accuracy: 89.00%\n",
      "Epoch: 36, Training Time: 15.42s, Training Accuracy: 99.88%, Validation Accuracy: 89.00%\n",
      "Epoch: 37, Training Time: 15.83s, Training Accuracy: 99.88%, Validation Accuracy: 89.00%\n",
      "Epoch: 38, Training Time: 16.40s, Training Accuracy: 99.88%, Validation Accuracy: 89.00%\n",
      "Epoch: 39, Training Time: 16.86s, Training Accuracy: 99.88%, Validation Accuracy: 89.00%\n",
      "Epoch: 40, Training Time: 17.25s, Training Accuracy: 99.88%, Validation Accuracy: 89.00%\n",
      "Epoch: 41, Training Time: 17.64s, Training Accuracy: 99.88%, Validation Accuracy: 89.00%\n",
      "Epoch: 42, Training Time: 18.03s, Training Accuracy: 99.88%, Validation Accuracy: 89.00%\n",
      "Epoch: 43, Training Time: 18.42s, Training Accuracy: 99.88%, Validation Accuracy: 89.00%\n",
      "Epoch: 44, Training Time: 18.80s, Training Accuracy: 99.88%, Validation Accuracy: 89.00%\n",
      "Epoch: 45, Training Time: 19.20s, Training Accuracy: 99.88%, Validation Accuracy: 89.00%\n",
      "Epoch: 46, Training Time: 19.60s, Training Accuracy: 99.88%, Validation Accuracy: 89.00%\n",
      "Epoch: 47, Training Time: 19.99s, Training Accuracy: 100.00%, Validation Accuracy: 89.00%\n",
      "Epoch: 48, Training Time: 20.39s, Training Accuracy: 100.00%, Validation Accuracy: 89.50%\n",
      "Epoch: 49, Training Time: 20.81s, Training Accuracy: 100.00%, Validation Accuracy: 89.50%\n",
      "Epoch: 50, Training Time: 21.22s, Training Accuracy: 100.00%, Validation Accuracy: 89.00%\n"
     ]
    }
   ],
   "source": [
    "res_nn = ResNetwork(sizes=[784, 128, 128, 10], learning_rate=1, epochs=50)\n",
    "res_nn.fit(x_train, y_train, x_val, y_val)"
   ]
  },
  {
   "cell_type": "markdown",
   "metadata": {},
   "source": [
    "## B) Neural Network Classifier using Torch"
   ]
  },
  {
   "cell_type": "markdown",
   "metadata": {},
   "source": [
    "### Data"
   ]
  },
  {
   "cell_type": "code",
   "execution_count": 7,
   "metadata": {},
   "outputs": [],
   "source": [
    "# Define data preprocessing steps\n",
    "transform = transforms.Compose([\n",
    "                transforms.ToTensor(),\n",
    "                transforms.Normalize((0.5,), (0.5,))\n",
    "            ])\n",
    "\n",
    "# Download MNIST dataset\n",
    "train_set = torch_datasets.MNIST('data', train=True, download=True, transform=transform)\n",
    "val_set = torch_datasets.MNIST('data', train=False, download=True, transform=transform)\n",
    "\n",
    "# Use only small subset of data for faster training\n",
    "train_set = torch.utils.data.Subset(train_set, range(1000))\n",
    "val_set = torch.utils.data.Subset(val_set, range(1000))\n",
    "\n",
    "# Utilize PyTorch DataLoader from simplified & harmonized loading of data\n",
    "train_loader = torch.utils.data.DataLoader(train_set, batch_size=1)\n",
    "val_loader = torch.utils.data.DataLoader(val_set, batch_size=1)\n"
   ]
  },
  {
   "cell_type": "markdown",
   "metadata": {},
   "source": [
    "### ML Model & Training"
   ]
  },
  {
   "cell_type": "code",
   "execution_count": 8,
   "metadata": {},
   "outputs": [
    {
     "name": "stdout",
     "output_type": "stream",
     "text": [
      "Epoch: 1, Training Time: 0.74s, Learning Rate: 0.2, Training Accuracy: 12.10%, Validation Accuracy: 10.20%\n",
      "Epoch: 2, Training Time: 1.42s, Learning Rate: 0.2, Training Accuracy: 41.10%, Validation Accuracy: 38.40%\n",
      "Epoch: 3, Training Time: 2.10s, Learning Rate: 0.2, Training Accuracy: 56.10%, Validation Accuracy: 52.90%\n",
      "Epoch: 4, Training Time: 2.83s, Learning Rate: 0.2, Training Accuracy: 66.80%, Validation Accuracy: 61.30%\n",
      "Epoch: 5, Training Time: 3.52s, Learning Rate: 0.2, Training Accuracy: 72.70%, Validation Accuracy: 66.70%\n",
      "Epoch: 6, Training Time: 4.22s, Learning Rate: 0.2, Training Accuracy: 76.50%, Validation Accuracy: 68.30%\n",
      "Epoch: 7, Training Time: 4.92s, Learning Rate: 0.2, Training Accuracy: 78.80%, Validation Accuracy: 69.80%\n",
      "Epoch: 8, Training Time: 5.61s, Learning Rate: 0.2, Training Accuracy: 81.30%, Validation Accuracy: 70.20%\n",
      "Epoch: 9, Training Time: 6.30s, Learning Rate: 0.2, Training Accuracy: 83.00%, Validation Accuracy: 72.10%\n",
      "Epoch: 10, Training Time: 7.03s, Learning Rate: 0.2, Training Accuracy: 84.60%, Validation Accuracy: 73.20%\n",
      "Epoch: 11, Training Time: 7.72s, Learning Rate: 0.2, Training Accuracy: 87.00%, Validation Accuracy: 74.70%\n",
      "Epoch: 12, Training Time: 8.41s, Learning Rate: 0.2, Training Accuracy: 88.90%, Validation Accuracy: 75.90%\n",
      "Epoch: 13, Training Time: 9.10s, Learning Rate: 0.2, Training Accuracy: 90.60%, Validation Accuracy: 76.80%\n",
      "Epoch: 14, Training Time: 9.79s, Learning Rate: 0.2, Training Accuracy: 91.50%, Validation Accuracy: 78.40%\n",
      "Epoch: 15, Training Time: 10.47s, Learning Rate: 0.2, Training Accuracy: 92.50%, Validation Accuracy: 79.30%\n",
      "Epoch: 16, Training Time: 11.11s, Learning Rate: 0.2, Training Accuracy: 93.20%, Validation Accuracy: 80.20%\n",
      "Epoch: 17, Training Time: 11.78s, Learning Rate: 0.2, Training Accuracy: 93.80%, Validation Accuracy: 80.80%\n",
      "Epoch: 18, Training Time: 12.50s, Learning Rate: 0.2, Training Accuracy: 95.10%, Validation Accuracy: 81.40%\n",
      "Epoch: 19, Training Time: 13.18s, Learning Rate: 0.2, Training Accuracy: 95.30%, Validation Accuracy: 82.10%\n",
      "Epoch: 20, Training Time: 13.86s, Learning Rate: 0.2, Training Accuracy: 96.30%, Validation Accuracy: 82.50%\n",
      "Epoch: 21, Training Time: 14.63s, Learning Rate: 0.2, Training Accuracy: 96.90%, Validation Accuracy: 82.90%\n",
      "Epoch: 22, Training Time: 15.47s, Learning Rate: 0.2, Training Accuracy: 97.60%, Validation Accuracy: 83.10%\n",
      "Epoch: 23, Training Time: 16.17s, Learning Rate: 0.2, Training Accuracy: 98.50%, Validation Accuracy: 83.50%\n",
      "Epoch: 24, Training Time: 16.82s, Learning Rate: 0.2, Training Accuracy: 99.00%, Validation Accuracy: 83.50%\n",
      "Epoch: 25, Training Time: 17.60s, Learning Rate: 0.2, Training Accuracy: 99.30%, Validation Accuracy: 84.20%\n",
      "Epoch: 26, Training Time: 18.34s, Learning Rate: 0.2, Training Accuracy: 99.40%, Validation Accuracy: 84.20%\n",
      "Epoch: 27, Training Time: 19.01s, Learning Rate: 0.2, Training Accuracy: 99.60%, Validation Accuracy: 84.30%\n",
      "Epoch: 28, Training Time: 19.76s, Learning Rate: 0.2, Training Accuracy: 99.70%, Validation Accuracy: 84.30%\n",
      "Epoch: 29, Training Time: 21.03s, Learning Rate: 0.2, Training Accuracy: 99.90%, Validation Accuracy: 84.40%\n",
      "Epoch: 30, Training Time: 21.81s, Learning Rate: 0.2, Training Accuracy: 100.00%, Validation Accuracy: 84.60%\n",
      "Epoch: 31, Training Time: 22.56s, Learning Rate: 0.2, Training Accuracy: 100.00%, Validation Accuracy: 84.60%\n",
      "Epoch: 32, Training Time: 23.31s, Learning Rate: 0.2, Training Accuracy: 100.00%, Validation Accuracy: 84.50%\n",
      "Epoch: 33, Training Time: 24.20s, Learning Rate: 0.2, Training Accuracy: 100.00%, Validation Accuracy: 84.60%\n",
      "Epoch: 34, Training Time: 24.99s, Learning Rate: 0.2, Training Accuracy: 100.00%, Validation Accuracy: 84.60%\n",
      "Epoch: 35, Training Time: 25.80s, Learning Rate: 0.2, Training Accuracy: 100.00%, Validation Accuracy: 85.00%\n",
      "Epoch: 36, Training Time: 26.63s, Learning Rate: 0.2, Training Accuracy: 100.00%, Validation Accuracy: 85.00%\n",
      "Epoch: 37, Training Time: 27.55s, Learning Rate: 0.2, Training Accuracy: 100.00%, Validation Accuracy: 85.10%\n",
      "Epoch: 38, Training Time: 28.34s, Learning Rate: 0.2, Training Accuracy: 100.00%, Validation Accuracy: 85.00%\n",
      "Epoch: 39, Training Time: 29.31s, Learning Rate: 0.2, Training Accuracy: 100.00%, Validation Accuracy: 85.00%\n",
      "Epoch: 40, Training Time: 30.31s, Learning Rate: 0.2, Training Accuracy: 100.00%, Validation Accuracy: 85.00%\n",
      "Epoch: 41, Training Time: 31.12s, Learning Rate: 0.2, Training Accuracy: 100.00%, Validation Accuracy: 85.10%\n",
      "Epoch: 42, Training Time: 31.94s, Learning Rate: 0.2, Training Accuracy: 100.00%, Validation Accuracy: 85.10%\n",
      "Epoch: 43, Training Time: 32.93s, Learning Rate: 0.2, Training Accuracy: 100.00%, Validation Accuracy: 85.20%\n",
      "Epoch: 44, Training Time: 33.74s, Learning Rate: 0.2, Training Accuracy: 100.00%, Validation Accuracy: 85.20%\n",
      "Epoch: 45, Training Time: 34.74s, Learning Rate: 0.2, Training Accuracy: 100.00%, Validation Accuracy: 85.20%\n",
      "Epoch: 46, Training Time: 35.69s, Learning Rate: 0.2, Training Accuracy: 100.00%, Validation Accuracy: 85.30%\n",
      "Epoch: 47, Training Time: 36.41s, Learning Rate: 0.2, Training Accuracy: 100.00%, Validation Accuracy: 85.30%\n",
      "Epoch: 48, Training Time: 37.29s, Learning Rate: 0.2, Training Accuracy: 100.00%, Validation Accuracy: 85.40%\n",
      "Epoch: 49, Training Time: 38.09s, Learning Rate: 0.2, Training Accuracy: 100.00%, Validation Accuracy: 85.40%\n",
      "Epoch: 50, Training Time: 39.00s, Learning Rate: 0.2, Training Accuracy: 100.00%, Validation Accuracy: 85.40%\n"
     ]
    }
   ],
   "source": [
    "torch_nn = TorchNetwork(sizes=[784, 128, 64, 10], learning_rate=0.2, epochs=50, random_state=GLOBAL_RANDOM_STATE)\n",
    "torch_nn.fit(train_loader, val_loader)"
   ]
  },
  {
   "cell_type": "markdown",
   "metadata": {},
   "source": [
    "## C) Visualize accuracy & hyperparameter tuning\n",
    "\n",
    "Here, you should compare the accuracy of all trained models. Optionally, you can also show the results of hyperparameter tuning and comment which hyperparameters work best for this task."
   ]
  },
  {
   "cell_type": "code",
   "execution_count": 21,
   "metadata": {},
   "outputs": [
    {
     "name": "stdout",
     "output_type": "stream",
     "text": [
      "-------------------- FNN --------------------\n",
      "FNN Training Accuracy: 89.25%\n",
      "FNN Validation Accuracy: 80.00%\n",
      "------------ Cosine Annealing FNN ------------\n",
      "Cosine Annealing FNN Training Accuracy: 88.38%\n",
      "Cosine Annealing FNN Validation Accuracy: 80.00%\n",
      "------------------- ResNet -------------------\n",
      "ResNet Training Accuracy: 100.00%\n",
      "ResNet Validation Accuracy: 89.00%\n",
      "------------------- PyTorch -------------------\n",
      "Torch Network Training Accuracy: 100.00%\n",
      "Torch Network Validation Accuracy: 85.40%\n"
     ]
    }
   ],
   "source": [
    "# FNN\n",
    "print(\"-\"*20, \"FNN\", \"-\"*20)\n",
    "fnn_train_acc = fnn.compute_accuracy(x_train, y_train)\n",
    "print(f\"FNN Training Accuracy: {fnn_train_acc*100:.2f}%\")\n",
    "fnn_acc = fnn.compute_accuracy(x_val, y_val)\n",
    "print(f\"FNN Validation Accuracy: {fnn_acc*100:.2f}%\")\n",
    "\n",
    "# Cosine Annealing FNN\n",
    "print(\"-\"*12, \"Cosine Annealing FNN\", \"-\"*12)\n",
    "cos_train_acc = cos_nn.compute_accuracy(x_train, y_train)\n",
    "print(f\"Cosine Annealing FNN Training Accuracy: {cos_train_acc*100:.2f}%\")\n",
    "cos_acc = cos_nn.compute_accuracy(x_val, y_val)\n",
    "print(f\"Cosine Annealing FNN Validation Accuracy: {cos_acc*100:.2f}%\")\n",
    "\n",
    "# ResNet\n",
    "print(\"-\"*19, \"ResNet\", \"-\"*19)\n",
    "resnet_train_acc = res_nn.compute_accuracy(x_train, y_train)\n",
    "print(f\"ResNet Training Accuracy: {resnet_train_acc*100:.2f}%\")\n",
    "resnet_acc = res_nn.compute_accuracy(x_val, y_val)\n",
    "print(f\"ResNet Validation Accuracy: {resnet_acc*100:.2f}%\")\n",
    "\n",
    "\n",
    "# PyTorch Network\n",
    "print(\"-\"*19, \"PyTorch\", \"-\"*19)\n",
    "torch_train_acc = torch_nn.compute_accuracy(train_loader)\n",
    "print(f\"Torch Network Training Accuracy: {torch_train_acc*100:.2f}%\")\n",
    "torch_acc = torch_nn.compute_accuracy(val_loader)\n",
    "print(f\"Torch Network Validation Accuracy: {torch_acc*100:.2f}%\")"
   ]
  },
  {
   "cell_type": "code",
   "execution_count": 11,
   "metadata": {},
   "outputs": [
    {
     "data": {
      "image/png": "[encoded data removed]",
      "text/plain": [
       "<Figure size 2000x400 with 4 Axes>"
      ]
     },
     "metadata": {},
     "output_type": "display_data"
    }
   ],
   "source": [
    "# List of models\n",
    "models = {\n",
    "    \"FNN\": fnn,\n",
    "    \"FNN + Cosine\": cos_nn,\n",
    "    \"ResNet\": res_nn,\n",
    "    \"PyTorch FNN\": torch_nn\n",
    "}\n",
    "\n",
    "# Setup subplot grid\n",
    "n_models = len(models)\n",
    "fig, axes = plt.subplots(1, n_models, figsize=(5*n_models, 4), sharey=True)\n",
    "\n",
    "if n_models == 1:\n",
    "    axes = [axes]  # make iterable\n",
    "\n",
    "# Plot accuracies directly from model attributes\n",
    "for ax, (name, model) in zip(axes, models.items()):\n",
    "    ax.plot(model.train_accuracies, label=\"Train\", color=\"blue\")\n",
    "    ax.plot(model.val_accuracies, label=\"Val\", color=\"orange\", linestyle=\"--\")\n",
    "    ax.set_title(name)\n",
    "    ax.set_xlabel(\"Epochs\")\n",
    "    ax.set_ylabel(\"Accuracy\")\n",
    "    ax.legend()\n",
    "    ax.grid(True)\n",
    "\n",
    "plt.suptitle(\"Training vs Validation Accuracy per Model\", fontsize=16)\n",
    "plt.tight_layout(rect=[0, 0, 1, 0.95])\n",
    "plt.show()\n"
   ]
  },
  {
   "cell_type": "code",
   "execution_count": null,
   "metadata": {},
   "outputs": [],
   "source": [
    "### BEGIN SOLUTION ###\n",
    " \n",
    "\n",
    "### END SOLUTION ###"
   ]
  }
 ],
 "metadata": {
  "kernelspec": {
   "display_name": ".venv-dl-ps1",
   "language": "python",
   "name": "python3"
  },
  "language_info": {
   "codemirror_mode": {
    "name": "ipython",
    "version": 3
   },
   "file_extension": ".py",
   "mimetype": "text/x-python",
   "name": "python",
   "nbconvert_exporter": "python",
   "pygments_lexer": "ipython3",
   "version": "3.10.18"
  },
  "orig_nbformat": 4
 },
 "nbformat": 4,
 "nbformat_minor": 2
}
